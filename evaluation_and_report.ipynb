{
 "cells": [
  {
   "cell_type": "markdown",
   "id": "5d660b0f-c40a-4618-9555-8472a0201cc1",
   "metadata": {},
   "source": [
    "# Assignment 4 \n",
    "## Network Measurements and Analysis of the Tor Network Using Open Data"
   ]
  },
  {
   "cell_type": "markdown",
   "id": "95e7541a-cc2d-4ce0-abbb-0b4f07c544a2",
   "metadata": {},
   "source": [
    "## Introduction\n",
    "\n",
    "In an era of more thorough surveillance and the data of regular end-users being harvested and sold regularly, privacy is becoming increasingly more important. One powerful tool for enhancing online privacy is Tor.\n",
    "The Tor (\"The Onion Router\") network is a decentralized network which allows users to browse the internet anonymously and privately. This is achieved by routing user-traffic through a set of tor-relays, with multiple layers of encryption and decryption at each stage, referred to as onion routing. A concrete set of relays is called a circuit, which typically consists of an entry (or “Guard”) relay, a middle relay, and an exit relay [1]. The exit relay, being the final relay in a circuit, is the one that sends out the traffic to its destination in the public internet[2]. Exit-relays are essential for the functionality of the system, they also introduce vulnerabilities. Because they are the point where the traffic leaves the network, they have been the focus of attacks in the past [3]. But what if, the traffic never has to leave the tor-network? To provide increased privacy and anonymity for the client, but also to provide responder anonymity, clients can arrange a \"rendezvous\" inside the tor-network or make use of the so called \"onion or hidden services\" [1]. Onion services provide [4]:\n",
    "- Location hiding for client and responder\n",
    "- End-to-end authentication\n",
    "- End-to-end encryption\n",
    "- NAT punching\n",
    "\n",
    "additionally to the traffic never exiting the tor-network in the first place. These onion services are what this assignement is mostly about, its trying to answer the question:\n",
    "\n",
    "__*What is the cost of this increased privacy using onion services? How do page load times on tor onion services compare to their clear web counterparts?*__"
   ]
  },
  {
   "cell_type": "markdown",
   "id": "dd60fa48-a3a2-4f46-83ac-4719f3d98368",
   "metadata": {},
   "source": [
    "## Data Collection, Measurements and Processing\n",
    "\n",
    "For the purpose of this assignment and specifically to be able to compare onion services to their clear web counterparts, I needed to find a selection of services that exist inside the tor-network and also in the regular internet. After doing some initial research I didn't find any fitting databases or directories that could offer what i was looking for, so I had to scrape the web for these services manually. My initial approach was to look at the most popular onion services first, but that turned out to be an uncomfortable approach and also not very effective. After some more research I found out about [5] this section of the official tor blog, documenting the possibility for regular websites to advertise their onion-service counterpart in a HTTP-response headers, a field called \"Onion-Location\". I then downloaded the latest version of the latest tranco-list for the top one million most popular domains [6] and scraped the top 20.000 domains for their \"Onion-Location\". For this I used the following script:"
   ]
  },
  {
   "cell_type": "code",
   "execution_count": null,
   "id": "13b21247-690f-4682-a375-0bb9a385e9e3",
   "metadata": {},
   "outputs": [],
   "source": [
    "import requests\n",
    "import csv\n",
    "\n",
    "INPUT_CSV = \"tranco_daily_top20k.csv\"\n",
    "OUTPUT_CSV = \"onion_locations_found_complete.csv\"\n",
    "TIMEOUT = 10\n",
    "\n",
    "# Checks for availability of Onion-Location\n",
    "def get_onion_header(domain):\n",
    "    url = f\"https://{domain.strip()}\"\n",
    "    try:\n",
    "        response = requests.get(url, timeout=TIMEOUT, allow_redirects=True)\n",
    "        onion_url = response.headers.get(\"Onion-Location\")\n",
    "        if onion_url and \".onion\" in onion_url:\n",
    "            return onion_url\n",
    "    except Exception as e:\n",
    "        print(f\"[!] Error checking {url}: {e}\")\n",
    "    return None\n",
    "\n",
    "def main():\n",
    "    with open(INPUT_CSV, \"r\", encoding=\"utf-8\") as infile, \\\n",
    "         open(OUTPUT_CSV, \"w\", newline=\"\", encoding=\"utf-8\") as outfile:\n",
    "        \n",
    "        reader = csv.reader(infile)\n",
    "        writer = csv.writer(outfile)\n",
    "        writer.writerow([\"Clear Web Domain\", \"Onion Address\"])\n",
    "        \n",
    "        for row in reader:\n",
    "            domain = row[1].strip()\n",
    "            if not domain:\n",
    "                continue\n",
    "            print(f\"Checking {domain}\")\n",
    "            onion = get_onion_header(domain)\n",
    "            if onion:\n",
    "                print(f\"{domain} → {onion}\")\n",
    "                writer.writerow([domain, onion])\n",
    "            else:\n",
    "                print(f\"No Onion header for {domain}\")\n",
    "\n",
    "if __name__ == \"__main__\":\n",
    "    main()\n"
   ]
  },
  {
   "cell_type": "markdown",
   "id": "1955cfc5-fb7d-4bdd-9871-d0a8b291ae64",
   "metadata": {},
   "source": [
    "This script found 26 domains, which were available in the regular internet but also advertised an onion adress: \n",
    "\n",
    "| Clear Web Domain     | Onion Address                                                                                      |\n",
    "|----------------------|----------------------------------------------------------------------------------------------------|\n",
    "| archive.org          | [https://archivep75mbjunhxc6x4j5mwjmomyxb573v42baldlqu56ruil2oiad.onion/](https://archivep75mbjunhxc6x4j5mwjmomyxb573v42baldlqu56ruil2oiad.onion/) |\n",
    "| theguardian.com      | [https://www.guardian2zotagl6tmjucg3lrhxdk4dw3lhbqnkvvkywawy3oqfoprid.onion/europe](https://www.guardian2zotagl6tmjucg3lrhxdk4dw3lhbqnkvvkywawy3oqfoprid.onion/europe) |\n",
    "| brave.com            | [https://brave4u7jddbv7cyviptqjc7jusxh72uik7zt6adtckl5f4nwy2v72qd.onion/index.html](https://brave4u7jddbv7cyviptqjc7jusxh72uik7zt6adtckl5f4nwy2v72qd.onion/index.html) |\n",
    "| dw.com               | [https://www.dwnewsgngmhlplxy6o2twtfgjnrnjxbegbwqx6wnotdhkzt562tszfid.onion/](https://www.dwnewsgngmhlplxy6o2twtfgjnrnjxbegbwqx6wnotdhkzt562tszfid.onion/) |\n",
    "| guardian.co.uk       | [https://www.guardian2zotagl6tmjucg3lrhxdk4dw3lhbqnkvvkywawy3oqfoprid.onion/europe](https://www.guardian2zotagl6tmjucg3lrhxdk4dw3lhbqnkvvkywawy3oqfoprid.onion/europe) |\n",
    "| voanews.com          | [https://www.voanews5aitmne6gs2btokcacixclgfl43cv27sirgbauyyjylwpdtqd.onion/](https://www.voanews5aitmne6gs2btokcacixclgfl43cv27sirgbauyyjylwpdtqd.onion/) |\n",
    "| proton.me            | [https://protonmailrmez3lotccipshtkleegetolb73fuirgj7r4o4vfu7ozyd.onion/](https://protonmailrmez3lotccipshtkleegetolb73fuirgj7r4o4vfu7ozyd.onion/) |\n",
    "| amnesty.org          | [https://www.amnestyl337aduwuvpf57irfl54ggtnuera45ygcxzuftwxjvvmpuzqd.onion](https://www.amnestyl337aduwuvpf57irfl54ggtnuera45ygcxzuftwxjvvmpuzqd.onion) |\n",
    "| propublica.org       | [http://p53lf57qovyuvwsc6xnrppyply3vtqm7l6pcobkmyqsiofyeznfu5uqd.onion/](http://p53lf57qovyuvwsc6xnrppyply3vtqm7l6pcobkmyqsiofyeznfu5uqd.onion/) |\n",
    "| torproject.org       | [http://2gzyxa5ihm7nsggfxnu52rck2vv4rvmdlkiu3zzui5du4xyclen53wid.onion/index.html](http://2gzyxa5ihm7nsggfxnu52rck2vv4rvmdlkiu3zzui5du4xyclen53wid.onion/index.html) |\n",
    "| 1337x.to             | [http://l337xdarkkaqfwzntnfk5bmoaroivtl6xsbatabvlb52umg6v3ch44yd.onion/](http://l337xdarkkaqfwzntnfk5bmoaroivtl6xsbatabvlb52umg6v3ch44yd.onion/) |\n",
    "| archive.is           | [http://archiveiya74codqgiixo33q62qlrqtkgmcitqx5u2oeqnmn5bpcbiyd.onion/](http://archiveiya74codqgiixo33q62qlrqtkgmcitqx5u2oeqnmn5bpcbiyd.onion/) |\n",
    "| rferl.org            | [https://www.rferlo2zxgv23tct66v45s5mecftol5vod3hf4rqbipfp46fqu2q56ad.onion/](https://www.rferlo2zxgv23tct66v45s5mecftol5vod3hf4rqbipfp46fqu2q56ad.onion/) |\n",
    "| mullvad.net          | [http://o54hon2e2vj6c7m3aqqu6uyece65by3vgoxxhlqlsvkmacw6a7m7kiad.onion/en](http://o54hon2e2vj6c7m3aqqu6uyece65by3vgoxxhlqlsvkmacw6a7m7kiad.onion/en) |\n",
    "| archive.ph           | [http://archiveiya74codqgiixo33q62qlrqtkgmcitqx5u2oeqnmn5bpcbiyd.onion/](http://archiveiya74codqgiixo33q62qlrqtkgmcitqx5u2oeqnmn5bpcbiyd.onion/) |\n",
    "| mempool.space        | [http://mempoolhqx4isw62xs7abwphsq7ldayuidyx2v2oethdhhj6mlo2r6ad.onion/](http://mempoolhqx4isw62xs7abwphsq7ldayuidyx2v2oethdhhj6mlo2r6ad.onion/) |\n",
    "| taz.de               | [http://zervmwoc5flabhlh3heegnspbpoebbgr3kgkaarkpnz2gtsuunlxgqyd.onion/!p4608;web/](http://zervmwoc5flabhlh3heegnspbpoebbgr3kgkaarkpnz2gtsuunlxgqyd.onion/!p4608;web/) |\n",
    "| marxists.org         | [http://www.marxists3va6eopxoeiegih3iyex2zg3tmace7afbxjqlabmranzjjad.onion/index.htm](http://www.marxists3va6eopxoeiegih3iyex2zg3tmace7afbxjqlabmranzjjad.onion/index.htm) |\n",
    "| wiz.biz              | [http://wizbizrnszzzyfe6j75tpwd7hn4gf2tlvzdsokkosxfbox73ctzaqdqd.onion/](http://wizbizrnszzzyfe6j75tpwd7hn4gf2tlvzdsokkosxfbox73ctzaqdqd.onion/) |\n",
    "| f-droid.org          | [http://fdroidorg6cooksyluodepej4erfctzk7rrjpjbbr6wx24jh3lqyfwyd.onion/index.html.en](http://fdroidorg6cooksyluodepej4erfctzk7rrjpjbbr6wx24jh3lqyfwyd.onion/index.html.en) |\n",
    "| cock.li              | [http://rurcblzhmdk22kttfkel2zduhyu3r6to7knyc7wiorzrx5gw4c3lftad.onion/](http://rurcblzhmdk22kttfkel2zduhyu3r6to7knyc7wiorzrx5gw4c3lftad.onion/) |\n",
    "| mediapart.fr         | [https://www.mediapartrvj4bsgolbxixw57ru7fh4jqckparke4vs365guu6ho64yd.onion/](https://www.mediapartrvj4bsgolbxixw57ru7fh4jqckparke4vs365guu6ho64yd.onion/) |\n",
    "| z-library.sk         | [http://bookszlibb74ugqojhzhg2a63w5i2atv5bqarulgczawnbmsb6s6qead.onion/](http://bookszlibb74ugqojhzhg2a63w5i2atv5bqarulgczawnbmsb6s6qead.onion/) |\n",
    "| riseup.net           | [http://vww6ybal4bd7szmgncyruucpgfkqahzddi37ktceo3ah7ngmcopnpyyd.onion/index.en.html](http://vww6ybal4bd7szmgncyruucpgfkqahzddi37ktceo3ah7ngmcopnpyyd.onion/index.en.html) |\n",
    "| blockstream.info     | [http://explorerzydxu5ecjrkwceayqybizmpjjznk5izmitf2modhcusuqlid.onion/](http://explorerzydxu5ecjrkwceayqybizmpjjznk5izmitf2modhcusuqlid.onion/) |\n",
    "| svoboda.org          | [https://www.svobod7mjzb3hwxhgcnx7ui2ffd4p5zulftzkzdlmpaztuuoxnlpwhyd.onion/](https://www.svobod7mjzb3hwxhgcnx7ui2ffd4p5zulftzkzdlmpaztuuoxnlpwhyd.onion/) |\n",
    "\n",
    "\n",
    "This represents approximately __0.13%__ of clearnet domains also offering a corresponding .onion address-roughly one in every 770 domains, based on the sample set I examined. For further analysis, I utilized the open-source framework Selenium [7] for automating browser interactions and data collection, alongside Stem [8], a Python controller library designed for managing Tor processes and integrating with the Tor Browser. Each domain identified in the earlier phase was accessed once through a regular browser on the clearnet, and once via the Tor network using its associated .onion address. Accessing each domain in the clearnet and its .onion counterpart once is considered a single run. To reduce potential noise and help to achieve more realistic measurements I conducted a total of 20 runs per domain, saving the results of each. Measurement consistency on the Tor network can be challenging due to its inherent design and privacy considerations[9]. But for this assignment in particular the choice of relays, or specifically the circuit, can influence the results of the measurements. Which is also why it seemed beneficial to conduct multiple runs of each domain. To capture information on which relays and circuit were used for each request, the Stem library controller was used, supplemented by some additional post-processing work following the measurements. For more detailed information about the procedure, please refer to the following commented source code:"
   ]
  },
  {
   "cell_type": "code",
   "execution_count": null,
   "id": "23c80b45-ae48-43e1-84fe-513475ba196b",
   "metadata": {},
   "outputs": [],
   "source": [
    "import csv\n",
    "import time\n",
    "import logging\n",
    "from selenium import webdriver\n",
    "from selenium.webdriver.firefox.options import Options\n",
    "from stem.control import Controller\n",
    "from stem import StreamStatus\n",
    "from urllib.parse import urlparse\n",
    "import requests\n",
    "\n",
    "INPUT_CSV = \"onion_locations_found_filtered.csv\"\n",
    "OUTPUT_CSV = \"onion_vs_clearnet_comparison_with_relays.csv\"\n",
    "NUM_RUNS = 20\n",
    "DELAY_BETWEEN_RUNS = 60  \n",
    "\n",
    "# Set up logging\n",
    "logging.basicConfig(\n",
    "    filename='performance_measurements.log',\n",
    "    filemode='a',\n",
    "    format='[%(asctime)s] %(levelname)s: %(message)s',\n",
    "    datefmt='%Y-%m-%d %H:%M:%S',\n",
    "    level=logging.INFO\n",
    ")\n",
    "console = logging.StreamHandler()\n",
    "console.setLevel(logging.INFO)\n",
    "formatter = logging.Formatter('[%(asctime)s] %(levelname)s: %(message)s', datefmt='%H:%M:%S')\n",
    "console.setFormatter(formatter)\n",
    "logging.getLogger('').addHandler(console)\n",
    "\n",
    "\n",
    "# Grabs tor controller from stem library\n",
    "def get_tor_controller():\n",
    "    try:\n",
    "        controller = Controller.from_port(port=9151)\n",
    "        controller.authenticate()  \n",
    "        logging.info(\"Successfully connected to Tor controller\")\n",
    "        return controller\n",
    "    except Exception as e:\n",
    "        logging.error(f\"Failed to connect to Tor controller: {e}\")\n",
    "        return None\n",
    "\n",
    "# Extracts relays used for current circuit, grabbin relevant data the tor-controller provides and also adds country code for relay based on ip\n",
    "# lookup\n",
    "def get_circuit_relays(controller, circuit_id):\n",
    "    try:\n",
    "        circuit = controller.get_circuit(circuit_id)\n",
    "        if circuit:\n",
    "            relays_info = []\n",
    "            for entry in circuit.path:\n",
    "                fingerprint, nickname = entry  # unpack tuple\n",
    "                ip = None\n",
    "                country = \"Unknown\"\n",
    "                try:\n",
    "                    ns = controller.get_network_status(fingerprint)\n",
    "                    if ns:\n",
    "                        ip = getattr(ns, 'address', None)  \n",
    "                        if ip:\n",
    "                            country = get_country_online(ip)\n",
    "                except Exception as e:\n",
    "                    logging.warning(f\"Failed to get IP/country for {fingerprint}: {e}\")\n",
    "                relays_info.append((fingerprint, nickname, ip, country))\n",
    "            return relays_info\n",
    "    except Exception as e:\n",
    "        logging.error(f\"Error getting circuit relays for {circuit_id}: {e}\")\n",
    "    return []\n",
    "\n",
    "\n",
    "# Tries to identify circuit used for current request, wasnt working very consistently so it has some fallbacks and tries mutliple times\n",
    "def get_circuit_for_stream(controller, target_url, retries=5, delay=0.5):\n",
    "    parsed = urlparse(target_url)\n",
    "    hostname = parsed.hostname.replace(\"www.\", \"\") if parsed.hostname else None\n",
    "\n",
    "    for attempt in range(1, retries + 1):\n",
    "        streams = controller.get_streams()\n",
    "        logging.info(f\"Attempt {attempt}/{retries}: Checking {len(streams)} streams for hostname '{hostname}'\")\n",
    "\n",
    "        for stream in streams:\n",
    "            stream_info = (f\"Stream ID: {stream.id}, Status: {stream.status}, \"\n",
    "                           f\"Target: {stream.target}, Circuit ID: {stream.circ_id}\")\n",
    "            logging.debug(stream_info)\n",
    "\n",
    "            if stream.status in [StreamStatus.NEW, StreamStatus.SUCCEEDED] and stream.target:\n",
    "                stream_host = stream.target.split(':')[0].replace(\"www.\", \"\")\n",
    "                if stream_host == hostname:\n",
    "                    logging.info(f\"Matched stream {stream.id} with circuit ID {stream.circ_id}\")\n",
    "                    return stream.circ_id\n",
    "\n",
    "        logging.info(f\"No matching stream found on attempt {attempt}, retrying after {delay}s...\")\n",
    "        time.sleep(delay)\n",
    "\n",
    "    logging.warning(f\"Could not find circuit ID for {target_url} after {retries} attempts\")\n",
    "    return None\n",
    "\n",
    "# Config for selenium\n",
    "def get_tor_driver():\n",
    "    options = Options()\n",
    "    options.set_preference(\"network.proxy.type\", 1)\n",
    "    options.set_preference(\"network.proxy.socks\", \"127.0.0.1\")\n",
    "    options.set_preference(\"network.proxy.socks_port\", 9150)\n",
    "    options.set_preference(\"network.proxy.socks_version\", 5)\n",
    "    options.set_preference(\"network.proxy.socks_remote_dns\", True)\n",
    "    options.headless = True\n",
    "    return webdriver.Firefox(options=options)\n",
    "\n",
    "# Config for Selenium\n",
    "def get_clear_driver():\n",
    "    options = Options()\n",
    "    options.headless = True\n",
    "    return webdriver.Firefox(options=options)\n",
    "\n",
    "def measure_timings(driver, url):\n",
    "    try:\n",
    "        driver.get(url)\n",
    "        time.sleep(5)  # Wait to allow stream registration \n",
    "        timing = driver.execute_script(\"return window.performance.timing\")\n",
    "\n",
    "        get = lambda key: timing.get(key, 0)\n",
    "        navigation_start = get(\"navigationStart\")\n",
    "        domain_lookup = get(\"domainLookupEnd\") - get(\"domainLookupStart\")\n",
    "        connect = get(\"connectEnd\") - get(\"connectStart\")\n",
    "        tls = get(\"requestStart\") - get(\"connectEnd\") if \"https\" in url else None\n",
    "        dom = get(\"domContentLoadedEventEnd\") - navigation_start\n",
    "        page_load = get(\"loadEventEnd\") - navigation_start\n",
    "        total = get(\"loadEventEnd\") - navigation_start\n",
    "\n",
    "        return {\n",
    "            \"dns\": domain_lookup if domain_lookup >= 0 else None,\n",
    "            \"tcp\": connect if connect >= 0 else None,\n",
    "            \"tls\": tls if tls and tls >= 0 else None,\n",
    "            \"dom\": dom if dom >= 0 else None,\n",
    "            \"page_load\": page_load if page_load >= 0 else None,\n",
    "            \"total_time\": total if total >= 0 else None\n",
    "        }\n",
    "\n",
    "    except Exception as e:\n",
    "        logging.warning(f\"Error measuring {url}: {e}\")\n",
    "        return None\n",
    "\n",
    "\n",
    "def clean_url(url):\n",
    "    return url.strip().split(\"#\")[0].split(\"?\")[0]\n",
    "\n",
    "\n",
    "def write_raw_data_to_csv(data_rows, mode=\"a\"):\n",
    "    \"\"\"Write raw timing and circuit data rows to CSV.\"\"\"\n",
    "    with open(OUTPUT_CSV, mode, newline=\"\", encoding=\"utf-8\") as outfile:\n",
    "        writer = csv.writer(outfile)\n",
    "        if mode == \"w\":\n",
    "            writer.writerow([\n",
    "                \"Clear Domain\", \"Type\", \"URL\",\n",
    "                \"DNS Lookup (ms)\", \"TCP Connect (ms)\", \"TLS Handshake (ms)\",\n",
    "                \"DOMContentLoaded (ms)\", \"Page Load (ms)\", \"Total Time (ms)\",\n",
    "                \"Circuit Relays (Onion only)\"\n",
    "            ])\n",
    "        for row in data_rows:\n",
    "            writer.writerow(row)\n",
    "\n",
    "# Util function to map country codes to relays based on IP\n",
    "def get_country_online(ip):\n",
    "    try:\n",
    "        response = requests.get(f\"https://ipinfo.io/{ip}/json\", timeout=2)\n",
    "        if response.status_code == 200:\n",
    "            data = response.json()\n",
    "            return data.get(\"country\", \"Unknown\")\n",
    "    except Exception:\n",
    "        pass\n",
    "    return \"Unknown\"\n",
    "\n",
    "\n",
    "def main():\n",
    "    controller = get_tor_controller()\n",
    "    if not controller:\n",
    "        logging.warning(\"Tor controller not available, relay info will not be logged.\")\n",
    "\n",
    "    with open(INPUT_CSV, \"r\", encoding=\"utf-8\") as infile:\n",
    "        reader = list(csv.DictReader(infile))\n",
    "\n",
    "    # Open output file once, write header\n",
    "    with open(OUTPUT_CSV, \"w\", newline=\"\", encoding=\"utf-8\") as outfile:\n",
    "        writer = csv.writer(outfile)\n",
    "        writer.writerow([\n",
    "            \"Clear Domain\", \"Type\", \"URL\",\n",
    "            \"DNS Lookup (ms)\", \"TCP Connect (ms)\", \"TLS Handshake (ms)\",\n",
    "            \"DOMContentLoaded (ms)\", \"Page Load (ms)\", \"Total Time (ms)\",\n",
    "            \"Circuit Relays (Onion only)\"\n",
    "        ])\n",
    "\n",
    "        for run in range(1, NUM_RUNS + 1):\n",
    "            logging.info(f\"Starting measurement run {run} of {NUM_RUNS}\")\n",
    "\n",
    "            for row in reader:\n",
    "                clear_domain = row[\"Clear Web Domain\"]\n",
    "                onion_url = clean_url(row[\"Onion Address\"])\n",
    "                clear_url = f\"https://{clear_domain}\"\n",
    "\n",
    "                # Measure onion service\n",
    "                try:\n",
    "                    logging.info(f\"Measuring ONION for {clear_domain}\")\n",
    "                    tor_driver = get_tor_driver()\n",
    "                    onion_metrics = measure_timings(tor_driver, onion_url)\n",
    "\n",
    "                    circuit_relays_str = \"\"\n",
    "                    if onion_metrics:\n",
    "                        if controller:\n",
    "                            circuit_id = get_circuit_for_stream(controller, onion_url)\n",
    "                            if circuit_id:\n",
    "                                circuit_relays = get_circuit_relays(controller, circuit_id)\n",
    "                                if circuit_relays:\n",
    "                                    circuit_relays_str = \"; \".join([\n",
    "                                        f\"{fp}:{nick}:{ip if ip else 'Unknown'}:{country}\"\n",
    "                                        for fp, nick, ip, country in circuit_relays\n",
    "                                    ])\n",
    "                                logging.info(f\"Circuit used for {onion_url}: {circuit_relays_str}\")\n",
    "                            else:\n",
    "                                logging.warning(f\"Could not find circuit ID for {onion_url}\")\n",
    "\n",
    "                        writer.writerow([\n",
    "                            clear_domain, \"onion\", onion_url,\n",
    "                            onion_metrics[\"dns\"], onion_metrics[\"tcp\"], onion_metrics[\"tls\"],\n",
    "                            onion_metrics[\"dom\"], onion_metrics[\"page_load\"], onion_metrics[\"total_time\"],\n",
    "                            circuit_relays_str\n",
    "                        ])\n",
    "                        outfile.flush()\n",
    "                    tor_driver.quit()\n",
    "                except Exception as e:\n",
    "                    logging.error(f\"Error during ONION measurement for {clear_domain}: {e}\")\n",
    "\n",
    "                # Measure clear web variant\n",
    "                try:\n",
    "                    logging.info(f\"Measuring CLEAR WEB for {clear_domain}\")\n",
    "                    clear_driver = get_clear_driver()\n",
    "                    clear_metrics = measure_timings(clear_driver, clear_url)\n",
    "                    if clear_metrics:\n",
    "                        writer.writerow([\n",
    "                            clear_domain, \"clear\", clear_url,\n",
    "                            clear_metrics[\"dns\"], clear_metrics[\"tcp\"], clear_metrics[\"tls\"],\n",
    "                            clear_metrics[\"dom\"], clear_metrics[\"page_load\"], clear_metrics[\"total_time\"],\n",
    "                            \"\"  # no circuit info for clear web\n",
    "                        ])\n",
    "                        outfile.flush()\n",
    "                    clear_driver.quit()\n",
    "                except Exception as e:\n",
    "                    logging.error(f\"Error during CLEAR WEB measurement for {clear_domain}: {e}\")\n",
    "\n",
    "            if run < NUM_RUNS:\n",
    "                logging.info(f\"Waiting {DELAY_BETWEEN_RUNS}s before next run\")\n",
    "                time.sleep(DELAY_BETWEEN_RUNS)\n",
    "\n",
    "    logging.info(\"All runs completed.\")\n",
    "\n",
    "\n",
    "if __name__ == \"__main__\":\n",
    "    main()\n"
   ]
  },
  {
   "cell_type": "markdown",
   "id": "f04b60f7-5709-471a-8603-c9dea30607c0",
   "metadata": {},
   "source": [
    "Its worth noting that the set of domains used for the measurements was slightly smaller than the original one, because some domains were avoided due to legality and safety concerns. \n",
    "\n",
    "The resulting measurements were structured like shown in this sample (simplified for improved readability):"
   ]
  },
  {
   "cell_type": "markdown",
   "id": "3e50ca15-bc50-491f-afe8-16047aeccf8c",
   "metadata": {},
   "source": [
    "### Tor vs Clearnet Access Measurements (Simplified)\n",
    "\n",
    "| Domain         | Type   | URL                                                                                                         | DNS (ms) | TCP (ms) | DOMContentLoaded (ms) | Page Load (ms) | Circuit Relays (Onion only) |\n",
    "|----------------|--------|-------------------------------------------------------------------------------------------------------------|----------|----------|------------------------|----------------|------------------------------|\n",
    "| archive.org     | onion  | `https://archivep75mb...onion/`                                                                            | 0        | 2822     | 4893                   | 10009          | `prsv:194.26.192.186:NL; FragiGrenade:88.99.144.235:DE; scaletor:212.47.229.2:FR` |\n",
    "| archive.org     | clear  | `https://archive.org`                                                                                       | 14       | 412      | 1270                   | 1838           | –                            |\n",
    "| theguardian.com | onion  | `https://www.guardian2zot...onion/europe`                                                                   | 0        | 18169    | 19897                  | 37745          | `EchoOfTruth:213.165.81.97:ES; FragiGrenade:88.99.144.235:DE; acehoodbroward:64.65.63.40:NL` |\n",
    "| theguardian.com | clear  | `https://theguardian.com`                                                                                   | 0        | 0        | 382                    | 499            | –                            |\n",
    "| brave.com       | onion  | `https://brave4u7jddb...onion/index.html`                                                                   | 0        | 0        | 9381                   | 12451          | `EchoOfTruth:213.165.81.97:ES; FragiGrenade:88.99.144.235:DE; pewpew:188.245.203.234:DE` |\n",
    "| brave.com       | clear  | `https://brave.com`                                                                                         | 32       | 44       | 335                    | 397            | –                            |\n",
    "| voanews.com     | onion  | `https://www.voanews5ait...onion/`                                                                          | 0        | 2348     | 4436                   | 8480           | `prsv:194.26.192.186:NL; cuptor01:45.136.28.24:DE; fuchs5:65.21.94.13:FI` |\n",
    "| voanews.com     | clear  | `https://voanews.com`                                                                                       | 29       | 17       | 300                    | 1208           | –                            |\n"
   ]
  },
  {
   "cell_type": "markdown",
   "id": "1065fb32-5899-4366-a482-49a215ea4aab",
   "metadata": {},
   "source": [
    "The \"Circuit Relays\"-column denotes the full circuit used for each request, with the corresponding nickname, IP-adress and country for each relay in the circuit. In the context of onion services its worth mentioning that the last relay in each circuit is not an \"exit-relay\" anymore, but rather a shared rendezvous point that is reached by the client and the service, inside the network.\n",
    "The full results of these measurements can be accessed in a csv in this project-directory (onion_vs_clearnet_comparison_with_relays.csv)."
   ]
  },
  {
   "cell_type": "markdown",
   "id": "452759ba-a000-4fdb-8a8e-4d4f82c842a3",
   "metadata": {},
   "source": [
    "## Interpretation and Reporting"
   ]
  },
  {
   "cell_type": "markdown",
   "id": "3ac9ab07-4e47-43b2-819d-fa90db0be1ef",
   "metadata": {},
   "source": [
    "### Setup and loading the dataframe"
   ]
  },
  {
   "cell_type": "code",
   "execution_count": 34,
   "id": "799c1b6d-bcbe-40b0-aabb-4b1e682f06c2",
   "metadata": {},
   "outputs": [],
   "source": [
    "import pandas as pd\n",
    "import matplotlib.pyplot as plt\n",
    "from collections import defaultdict\n",
    "import seaborn as sns\n",
    "import re\n",
    "import ipywidgets as widgets\n",
    "from IPython.display import display, clear_output\n",
    "import plotly.graph_objects as go\n",
    "\n",
    "# Load CSV data\n",
    "df = pd.read_csv('onion_vs_clearnet_comparison_with_relays.csv')"
   ]
  },
  {
   "cell_type": "markdown",
   "id": "7bd0b5b8-28f0-4643-837f-47bec16011eb",
   "metadata": {},
   "source": [
    "With the measurements from the previous step completed, let's move on to evaluating and analyzing the data. We'll start by focusing on the most interesting insights, as well as some \"low-hanging fruit\": comparing the average onion loading times against their clear web counterparts. This comparison will help us quickly identify how well the onion services perform."
   ]
  },
  {
   "cell_type": "code",
   "execution_count": 35,
   "id": "9a978ac8-faa2-468d-b902-982b9650763a",
   "metadata": {},
   "outputs": [
    {
     "name": "stdout",
     "output_type": "stream",
     "text": [
      "                  Avg Clear Web Load Time (ms)  Avg Onion Load Time (ms)  Slowdown Factor\n",
      "Clear Domain                                                                             \n",
      "theguardian.com                         441.70                 19,263.20            43.61\n",
      "brave.com                               369.20                 10,228.80            27.71\n",
      "amnesty.org                             817.00                 10,063.90            12.32\n",
      "f-droid.org                             509.15                  5,315.25            10.44\n",
      "mullvad.net                             636.45                  6,038.90             9.49\n",
      "taz.de                                  623.60                  5,792.25             9.29\n",
      "svoboda.org                           1,304.25                 11,655.20             8.94\n",
      "cock.li                                 260.00                  2,279.70             8.77\n",
      "mediapart.fr                            491.90                  4,005.70             8.14\n",
      "proton.me                               495.45                  4,017.40             8.11\n",
      "guardian.co.uk                          486.30                  3,588.35             7.38\n",
      "marxists.org                            629.60                  4,628.75             7.35\n",
      "rferl.org                             1,496.40                  8,465.45             5.66\n",
      "blockstream.info                      2,176.20                 10,865.35             4.99\n",
      "propublica.org                        1,929.85                  8,892.15             4.61\n",
      "wiz.biz                                 882.50                  3,348.30             3.79\n",
      "torproject.org                        1,203.50                  4,130.50             3.43\n",
      "mempool.space                         2,085.70                  6,763.55             3.24\n",
      "voanews.com                           2,898.55                  9,088.15             3.14\n",
      "archive.org                           3,646.05                  9,649.15             2.65\n",
      "riseup.net                            3,181.90                  5,479.95             1.72\n",
      "archive.is                            3,138.30                  2,870.00             0.91\n",
      "archive.ph                            2,571.65                  1,279.50             0.50\n",
      "Average Slowdown Factor: 8.53\n"
     ]
    },
    {
     "data": {
      "image/png": "[encoded data removed]",
      "text/plain": [
       "<Figure size 1200x600 with 1 Axes>"
      ]
     },
     "metadata": {},
     "output_type": "display_data"
    }
   ],
   "source": [
    "# Filter types\n",
    "onion_df = df[df['Type'] == 'onion']\n",
    "clear_df = df[df['Type'] == 'clear']\n",
    "\n",
    "# Average total load times per domain\n",
    "avg_onion = onion_df.groupby('Clear Domain')['Total Time (ms)'].mean()\n",
    "avg_clear = clear_df.groupby('Clear Domain')['Total Time (ms)'].mean()\n",
    "\n",
    "# Combine both averages\n",
    "summary = pd.DataFrame({\n",
    "    'Avg Clear Web Load Time (ms)': avg_clear,\n",
    "    'Avg Onion Load Time (ms)': avg_onion\n",
    "})\n",
    "\n",
    "# Calculate slowdown factor\n",
    "summary['Slowdown Factor'] = summary['Avg Onion Load Time (ms)'] / summary['Avg Clear Web Load Time (ms)']\n",
    "\n",
    "# Drop NaNs if any (in case a domain is only in one set)\n",
    "summary = summary.dropna()\n",
    "\n",
    "# Print summary table\n",
    "print(summary.sort_values(by='Slowdown Factor', ascending=False).to_string(float_format='{:,.2f}'.format))\n",
    "\n",
    "average_slowdown = summary[\"Slowdown Factor\"].mean()\n",
    "print(f\"Average Slowdown Factor: {average_slowdown:.2f}\")\n",
    "\n",
    "summary_sorted = summary.sort_values('Slowdown Factor', ascending=True)\n",
    "\n",
    "summary_sorted.plot(\n",
    "    kind='bar',\n",
    "    y=['Avg Clear Web Load Time (ms)', 'Avg Onion Load Time (ms)'],\n",
    "    figsize=(12, 6),\n",
    "    title='Clear Web vs Onion Load Times by Domain (Ordered by Slowdown Factor)',\n",
    "    rot=45\n",
    ")\n",
    "\n",
    "plt.ylabel('Average Load Time (ms)')\n",
    "plt.tight_layout()\n",
    "plt.show()\n",
    "\n"
   ]
  },
  {
   "cell_type": "markdown",
   "id": "370aec1e-4031-4a96-b44d-c4cba5b83d48",
   "metadata": {},
   "source": [
    "As we can see in the table and graphic above, accessing the services on the tor network is significantly slower than on their clear web counterparts. This was defenitely the expected outcome, but whats interesting in particular is the extend to what it is true, at least for some of the services. Averaging the slowdown-factor for every domain, it takes about 8.5 times as long to access the .onion counterparts, leading to multiple seconds of waiting time, for the slower domains even upwards of 10 seconds. Its important to keep in mind with these results though, that they have already been averaged over 20 different accesses, so depending on your circuit configuration you can expect loading times much worse than what is shown here. \n",
    "\n",
    "But how much does your dynamically chosen circuit really impact the loading times when using hidden services? For this I thought it might be interesting to also look at the standard deviation of loading times for each domain, additionally to the coefficient of variation, which gives insight into the relative variability of the measurement, without relying on absolute numbers (coefficient closer to 1 means there are big deviations in the measurements):\n",
    "\n",
    "The coefficient of variation (CV) is given by:\n",
    "\n",
    "$$\n",
    "\\text{CV} = \\frac{\\sigma}{\\mu}\n",
    "$$\n",
    "\n",
    "Where:\n",
    "- σ = standard deviation  \n",
    "- μ = mean"
   ]
  },
  {
   "cell_type": "code",
   "execution_count": 36,
   "id": "7ba97460-318f-4c39-8ff8-b479c856f844",
   "metadata": {},
   "outputs": [
    {
     "name": "stdout",
     "output_type": "stream",
     "text": [
      "Clear domain name  Avg Onion Load Time (ms)  Standard Deviation (ms)  Coefficient of Variation\n",
      "  theguardian.com                  19263.20                 12510.33                     0.649\n",
      "      svoboda.org                  11655.20                  9398.38                     0.806\n",
      " blockstream.info                  10865.35                  2348.25                     0.216\n",
      "        brave.com                  10228.80                  1585.50                     0.155\n",
      "      amnesty.org                  10063.90                  4591.49                     0.456\n",
      "      archive.org                   9649.15                  1808.16                     0.187\n",
      "      voanews.com                   9088.15                  1624.20                     0.179\n",
      "   propublica.org                   8892.15                  2666.95                     0.300\n",
      "        rferl.org                   8465.45                  1783.66                     0.211\n",
      "    mempool.space                   6763.55                  2542.85                     0.376\n",
      "      mullvad.net                   6038.90                   924.00                     0.153\n",
      "           taz.de                   5792.25                  1521.31                     0.263\n",
      "       riseup.net                   5479.95                   986.80                     0.180\n",
      "      f-droid.org                   5315.25                  2161.96                     0.407\n",
      "     marxists.org                   4628.75                  4405.96                     0.952\n",
      "   torproject.org                   4130.50                  1457.97                     0.353\n",
      "        proton.me                   4017.40                   787.23                     0.196\n",
      "     mediapart.fr                   4005.70                  1299.51                     0.324\n",
      "   guardian.co.uk                   3588.35                  1368.94                     0.381\n",
      "          wiz.biz                   3348.30                   690.81                     0.206\n",
      "       archive.is                   2870.00                   856.53                     0.298\n",
      "          cock.li                   2279.70                   678.25                     0.298\n",
      "       archive.ph                   1279.50                   178.20                     0.139\n"
     ]
    }
   ],
   "source": [
    "onion_df = df[df['Type'] == 'onion']\n",
    "\n",
    "# Group by 'Clear Domain' and calculate mean, std deviation\n",
    "grouped = onion_df.groupby('Clear Domain')['Page Load (ms)'].agg(['mean', 'std'])\n",
    "\n",
    "# Calculate Coefficient of Variation \n",
    "grouped['Coefficient of Variation'] = grouped['std'] / grouped['mean']\n",
    "\n",
    "# Rename columns with clearer names\n",
    "grouped = grouped.rename(columns={\n",
    "    'mean': 'Avg Onion Load Time (ms)',\n",
    "    'std': 'Standard Deviation (ms)'\n",
    "})\n",
    "\n",
    "grouped = grouped.reset_index().rename(columns={'Clear Domain': 'Clear domain name'})\n",
    "\n",
    "# Sort descending \n",
    "grouped = grouped.sort_values(by='Avg Onion Load Time (ms)', ascending=False)\n",
    "\n",
    "# round values for better readability\n",
    "grouped = grouped.round({\n",
    "    'Avg Onion Load Time (ms)': 2,\n",
    "    'Standard Deviation (ms)': 2,\n",
    "    'Coefficient of Variation': 3\n",
    "})\n",
    "\n",
    "print(grouped.to_string(index=False))"
   ]
  },
  {
   "cell_type": "markdown",
   "id": "ea2e2c92-4ad3-4e91-8dcd-308c7caaa9a8",
   "metadata": {},
   "source": [
    "As we've observed, loading times can vary significantly. A coefficient of variation around 0.3 might be acceptable for services with consistently fast load times-for instance, when a service typically loads in about 600 ms, a fluctuation of ±200 ms is relatively small. However, for services where average load times approach 5 to 10 seconds, these variations can translate into very substantial delays.\n",
    "\n",
    "One of the reoccuring outliers in these measurements is the archive.ph domain, aswell as archive.is to some extend, which both somehow manage to provide faster loading times for their onion service variant, than their clear web counterpart. Aswell as producing a comparatively small deviation of loading times. The resons for this are beyond the scope of this research project but could be interesting to look at for further research. \n",
    "\n",
    "While evaluating system performance based on average load times provides useful insights, it's equally important to consider worst-case scenarios. \n",
    "To that end, let’s examine the maximum recorded loading times for each service to better understand potential usability and performance issues. The following table sorts the results by descending maximum loading time:"
   ]
  },
  {
   "cell_type": "code",
   "execution_count": 37,
   "id": "c2e2b141-ca02-49e0-8b7f-e80ca56dec20",
   "metadata": {},
   "outputs": [
    {
     "name": "stdout",
     "output_type": "stream",
     "text": [
      "    Clear Domain  Total Time (ms)\n",
      "     svoboda.org            50950\n",
      " theguardian.com            44797\n",
      "    marxists.org            22768\n",
      "     amnesty.org            21246\n",
      "  propublica.org            17367\n",
      "blockstream.info            15184\n",
      "     voanews.com            13598\n",
      "       rferl.org            13095\n",
      "       brave.com            13074\n",
      "   mempool.space            13014\n",
      "     archive.org            12759\n",
      "     f-droid.org             9852\n",
      "          taz.de             9270\n",
      "      riseup.net             8894\n",
      "     mullvad.net             8687\n",
      "  guardian.co.uk             8059\n",
      "  torproject.org             6938\n",
      "    mediapart.fr             6633\n",
      "       proton.me             6456\n",
      "      archive.is             6066\n",
      "         wiz.biz             4741\n",
      "         cock.li             4231\n",
      "      archive.ph             1706\n"
     ]
    }
   ],
   "source": [
    "df.columns = df.columns.str.strip()\n",
    "\n",
    "onion_df = df[df[\"Type\"] == \"onion\"].copy()\n",
    "\n",
    "onion_df[\"Total Time (ms)\"] = pd.to_numeric(onion_df[\"Total Time (ms)\"], errors=\"coerce\")\n",
    "\n",
    "# Get the worst (max) load time per onion domain\n",
    "worst_onion_times = (\n",
    "    onion_df.groupby(\"Clear Domain\")[\"Total Time (ms)\"]\n",
    "    .max()\n",
    "    .reset_index()\n",
    "    .sort_values(by=\"Total Time (ms)\", ascending=False)\n",
    ")\n",
    "\n",
    "print(worst_onion_times.to_string(index=False))\n"
   ]
  },
  {
   "cell_type": "markdown",
   "id": "34a9699c-b0ab-4573-bfa4-113657fddb2d",
   "metadata": {},
   "source": [
    "As seen above for some services and some circuit configurations (my measurements most likely dont cover the real worst case scenarios due to the limited amount of measurements) the loading times can exceed 20 seconds, which may be too long, even for users that value privacy highly.\n",
    "\n",
    "I have mentioned the deviation in loading times based on the circuit-configuration multiple times now, but to give a more concrete example: lets take one of the domains with a higher coefficient of variation, in this case amnesty.org with 0.456 and look at how the circuit configurations impacted loading times in the actual measurements. This can be seen in the following plot. In the interactive chart after the just mentioned plot, you can select a domain to inspect the circuit performance for it yourself, but rendering and/or functionality may suffer depending on different user environments."
   ]
  },
  {
   "cell_type": "code",
   "execution_count": null,
   "id": "1a1b5597-9f35-4976-b30e-13047942e3db",
   "metadata": {},
   "outputs": [],
   "source": []
  },
  {
   "cell_type": "code",
   "execution_count": 38,
   "id": "5aa79295-d01f-452d-b915-e32a7f5d16aa",
   "metadata": {},
   "outputs": [
    {
     "data": {
      "image/png": "[encoded data removed]",
      "text/plain": [
       "<Figure size 1600x800 with 1 Axes>"
      ]
     },
     "metadata": {},
     "output_type": "display_data"
    }
   ],
   "source": [
    "# Function to extract country codes from the relay string\n",
    "def extract_country_tuple(relay_str):\n",
    "    if pd.isna(relay_str):\n",
    "        return (\"NA\",)\n",
    "    countries = re.findall(r\":([A-Z]{2})(?:\\s|$|;)\", relay_str)\n",
    "    return tuple(countries)\n",
    "\n",
    "# Filter for amnesty.org onion entries\n",
    "amnesty_onion = df[(df['Clear Domain'] == 'amnesty.org') & (df['Type'] == 'onion')].copy()\n",
    "\n",
    "# Extract relay country tuples\n",
    "amnesty_onion['Relay Countries'] = amnesty_onion['Circuit Relays (Onion only)'].apply(extract_country_tuple)\n",
    "\n",
    "# Convert tuples to string labels for plotting\n",
    "amnesty_onion['Relay Country Path'] = amnesty_onion['Relay Countries'].apply(lambda x: ' → '.join(x))\n",
    "\n",
    "\n",
    "plt.figure(figsize=(16, 8))\n",
    "sns.barplot(\n",
    "    data=amnesty_onion,\n",
    "    x='Relay Country Path',\n",
    "    y='Page Load (ms)',\n",
    "    color='steelblue', \n",
    "    dodge=False\n",
    ")\n",
    "\n",
    "plt.title('Page Load Time for amnesty.org per Circuit')\n",
    "plt.xlabel('Relay Country Path')\n",
    "plt.ylabel('Page Load Time (ms)')\n",
    "plt.xticks(rotation=45, ha='right')\n",
    "plt.tight_layout()\n",
    "plt.show()"
   ]
  },
  {
   "cell_type": "code",
   "execution_count": 39,
   "id": "5ed6c737-3761-44ba-89f7-d484ba5a6bbe",
   "metadata": {},
   "outputs": [
    {
     "data": {
      "application/vnd.plotly.v1+json": {
       "config": {
        "plotlyServerURL": "https://plot.ly"
       },
       "data": [
        {
         "name": "amnesty.org",
         "type": "bar",
         "visible": true,
         "x": [
          "ES → PL → DE",
          "ES → PL → US",
          "ES → SE → DE",
          "ES → SE → FR",
          "NL → DE → CZ",
          "NL → DE → DE",
          "NL → DE → FI",
          "NL → DE → NL",
          "NL → DE → PL",
          "NL → DE → UA",
          "NL → DE → US",
          "NL → PL → DE",
          "NL → PL → FI",
          "NL → PL → PL",
          "NL → PL → US",
          "NL → SE → DE",
          "NL → SE → FI"
         ],
         "y": [
          11056,
          17653,
          7043,
          21246,
          10389,
          5624,
          6667,
          5889,
          6054,
          10382,
          9631,
          8147,
          7731,
          9608,
          17277,
          6672,
          17019
         ]
        },
        {
         "name": "archive.is",
         "type": "bar",
         "visible": false,
         "x": [
          "ES → DE → FI",
          "ES → DE → NL",
          "ES → DE → SE",
          "ES → DE → US",
          "ES → PL → DE",
          "ES → PL → RO",
          "ES → SE → DE",
          "NL → DE → DE",
          "NL → DE → FI",
          "NL → DE → NL",
          "NL → PL → DE",
          "NL → PL → GB",
          "NL → PL → US",
          "NL → SE → DE",
          "NL → SE → FR",
          "NL → SE → LV",
          "NL → SE → NL"
         ],
         "y": [
          3207,
          2585,
          2422,
          3288,
          3361,
          2624,
          2666,
          3196,
          2790,
          2054,
          2789,
          2950,
          3259,
          6066,
          2373,
          2320,
          2162
         ]
        },
        {
         "name": "archive.org",
         "type": "bar",
         "visible": false,
         "x": [
          "ES → DE → DE",
          "ES → DE → NL",
          "ES → PL → GB",
          "ES → SE → DE",
          "ES → SE → FR",
          "ES → SE → GB",
          "NL → DE → CZ",
          "NL → DE → DE",
          "NL → DE → FR",
          "NL → DE → NL",
          "NL → DE → SE",
          "NL → PL → DE",
          "NL → PL → FR",
          "NL → PL → US",
          "NL → SE → CZ",
          "NL → SE → FR",
          "NL → SE → NL",
          "NL → SE → SE"
         ],
         "y": [
          11123,
          12008,
          12759,
          8239,
          8756,
          11465,
          9618,
          11173,
          10009,
          6579,
          11821,
          7463,
          10484,
          9590,
          9735,
          6532,
          10193,
          7941
         ]
        },
        {
         "name": "archive.ph",
         "type": "bar",
         "visible": false,
         "x": [
          "ES → DE → FI",
          "ES → DE → NL",
          "ES → DE → SE",
          "ES → DE → US",
          "ES → PL → DE",
          "ES → PL → RO",
          "ES → SE → DE",
          "NL → DE → DE",
          "NL → DE → FI",
          "NL → DE → NL",
          "NL → PL → DE",
          "NL → PL → GB",
          "NL → PL → US",
          "NL → SE → DE",
          "NL → SE → FR",
          "NL → SE → LV",
          "NL → SE → NL"
         ],
         "y": [
          1272,
          1333,
          1200,
          1706,
          1600,
          1337,
          1221,
          1349,
          1376,
          1105,
          1081,
          1282,
          1500,
          1391,
          1150,
          985,
          1086
         ]
        },
        {
         "name": "blockstream.info",
         "type": "bar",
         "visible": false,
         "x": [
          "ES → DE → DE",
          "ES → DE → NL",
          "ES → DE → US",
          "ES → PL → DE",
          "ES → SE → FR",
          "NL → DE → CZ",
          "NL → DE → DE",
          "NL → DE → FR",
          "NL → PL → DE",
          "NL → PL → IT",
          "NL → PL → LT",
          "NL → PL → NL",
          "NL → SE → DE",
          "NL → SE → NL"
         ],
         "y": [
          7965,
          8472,
          15184,
          8816,
          11812,
          10377,
          10535,
          10154,
          13527,
          8162,
          10355,
          11513,
          8365,
          8990
         ]
        },
        {
         "name": "brave.com",
         "type": "bar",
         "visible": false,
         "x": [
          "ES → DE → DE",
          "ES → DE → FR",
          "ES → PL → EE",
          "ES → PL → NL",
          "ES → PL → PL",
          "NL → DE → DE",
          "NL → DE → FI",
          "NL → DE → FR",
          "NL → DE → SE",
          "NL → DE → US",
          "NL → PL → DE",
          "NL → PL → MD",
          "NL → SE → DE",
          "NL → SE → FR",
          "NL → SE → NL"
         ],
         "y": [
          12451,
          9240,
          12867,
          8579,
          9509,
          11528,
          9899,
          11936,
          10022,
          7993,
          8743,
          10279,
          9201,
          9774,
          8213
         ]
        },
        {
         "name": "cock.li",
         "type": "bar",
         "visible": false,
         "x": [
          "ES → DE → DE",
          "ES → DE → GB",
          "ES → PL → CH",
          "ES → PL → DE",
          "ES → PL → US",
          "ES → SE → DE",
          "ES → SE → FI",
          "ES → SE → GB",
          "ES → SE → IT",
          "NL → DE → CZ",
          "NL → DE → DE",
          "NL → DE → LV",
          "NL → DE → NL",
          "NL → PL → DK",
          "NL → SE → SE"
         ],
         "y": [
          2308,
          2209,
          2473,
          1968,
          3060,
          3404,
          2477,
          2146,
          2756,
          1615,
          1543,
          1945,
          4231,
          1517,
          2306
         ]
        },
        {
         "name": "f-droid.org",
         "type": "bar",
         "visible": false,
         "x": [
          "ES → DE → CZ",
          "ES → DE → FR",
          "ES → DE → GB",
          "ES → DE → UA",
          "ES → PL → DE",
          "ES → SE → DE",
          "ES → SE → NL",
          "NL → DE → DE",
          "NL → DE → FI",
          "NL → DE → NL",
          "NL → DE → PL",
          "NL → PL → BG",
          "NL → PL → DE",
          "NL → PL → GB",
          "NL → PL → NL",
          "NL → SE → DE",
          "NL → SE → FR",
          "NL → SE → US"
         ],
         "y": [
          8648,
          5477,
          3049,
          6495,
          5478,
          3578,
          9852,
          6550,
          5499,
          7623,
          2808,
          3159,
          2978,
          5737,
          2389,
          6826,
          4335,
          7652
         ]
        },
        {
         "name": "guardian.co.uk",
         "type": "bar",
         "visible": false,
         "x": [
          "ES → DE → MD",
          "ES → DE → NL",
          "ES → DE → RO",
          "ES → PL → DE",
          "ES → PL → US",
          "NL → DE → DE",
          "NL → DE → FI",
          "NL → DE → NL",
          "NL → DE → SE",
          "NL → PL → DE",
          "NL → PL → US",
          "NL → SE → DE",
          "NL → SE → FI",
          "NL → SE → GB",
          "NL → SE → NL",
          "NL → SE → SE"
         ],
         "y": [
          3708,
          3049,
          3198,
          3749,
          8059,
          2552,
          3269,
          2271,
          3176,
          3614,
          6440,
          3588,
          2927,
          2074,
          3503,
          3788
         ]
        },
        {
         "name": "marxists.org",
         "type": "bar",
         "visible": false,
         "x": [
          "ES → DE → DE",
          "ES → DE → NL",
          "ES → PL → DE",
          "ES → SE → DE",
          "ES → SE → NL",
          "NL → DE → DE",
          "NL → DE → FI",
          "NL → DE → NL",
          "NL → DE → SE",
          "NL → PL → DE",
          "NL → PL → FR",
          "NL → PL → US"
         ],
         "y": [
          4289,
          2723,
          4050,
          4413,
          4366,
          3299,
          3621,
          5341,
          22768,
          4246,
          1897,
          6004
         ]
        },
        {
         "name": "mediapart.fr",
         "type": "bar",
         "visible": false,
         "x": [
          "ES → DE → CZ",
          "ES → DE → NL",
          "ES → DE → SE",
          "ES → PL → ES",
          "NL → DE → BE",
          "NL → DE → DE",
          "NL → DE → ES",
          "NL → DE → FR",
          "NL → DE → NL",
          "NL → DE → PL",
          "NL → DE → SE",
          "NL → DE → US",
          "NL → PL → DE",
          "NL → PL → FR",
          "NL → PL → US",
          "NL → SE → NL"
         ],
         "y": [
          4438,
          6633,
          5981,
          4609,
          3204,
          3612,
          3866,
          2314,
          3192,
          3145,
          3282,
          6176,
          3301,
          3600,
          6364,
          2877
         ]
        },
        {
         "name": "mempool.space",
         "type": "bar",
         "visible": false,
         "x": [
          "ES → DE → DE",
          "ES → DE → FI",
          "ES → DE → FR",
          "ES → DE → NL",
          "ES → DE → UA",
          "ES → PL → GR",
          "ES → SE → FI",
          "NL → DE → AT",
          "NL → DE → DE",
          "NL → DE → NL",
          "NL → PL → EE",
          "NL → PL → NL",
          "NL → SE → DE",
          "NL → SE → LT"
         ],
         "y": [
          8360,
          8137,
          6879,
          5502,
          12780,
          9637,
          5214,
          4504,
          4471,
          5065,
          5511,
          6424,
          6436,
          7758
         ]
        },
        {
         "name": "mullvad.net",
         "type": "bar",
         "visible": false,
         "x": [
          "ES → DE → CH",
          "ES → DE → CZ",
          "ES → DE → DE",
          "ES → DE → FI",
          "ES → DE → FR",
          "ES → DE → PL",
          "ES → SE → DE",
          "ES → SE → FR",
          "NL → DE → DE",
          "NL → DE → FR",
          "NL → DE → GB",
          "NL → PL → DE",
          "NL → PL → NL",
          "NL → SE → CZ",
          "NL → SE → SE"
         ],
         "y": [
          8687,
          6386,
          6594,
          5996,
          6484,
          5476,
          6339,
          5665,
          4630,
          4691,
          5442,
          5662,
          6274,
          5601,
          5151
         ]
        },
        {
         "name": "propublica.org",
         "type": "bar",
         "visible": false,
         "x": [
          "ES → DE → DE",
          "ES → DE → SE",
          "ES → DE → US",
          "ES → PL → DE",
          "ES → PL → NL",
          "ES → SE → DE",
          "ES → SE → NO",
          "NL → DE → CH",
          "NL → DE → CZ",
          "NL → DE → DE",
          "NL → DE → NL",
          "NL → DE → US",
          "NL → PL → FR",
          "NL → PL → NL"
         ],
         "y": [
          7163,
          8236,
          7892,
          10374,
          8303,
          10677,
          8363,
          6891,
          8380,
          7791,
          12627,
          11056,
          8392,
          7020
         ]
        },
        {
         "name": "proton.me",
         "type": "bar",
         "visible": false,
         "x": [
          "ES → DE → DE",
          "ES → PL → FR",
          "ES → PL → GB",
          "ES → SE → DE",
          "NL → DE → DE",
          "NL → DE → FR",
          "NL → DE → NL",
          "NL → PL → GB",
          "NL → PL → NL",
          "NL → SE → BG",
          "NL → SE → DE",
          "NL → SE → MD",
          "NL → SE → NL",
          "NL → SE → PL"
         ],
         "y": [
          4040,
          3944,
          4245,
          4440,
          3712,
          4408,
          5190,
          3446,
          3601,
          4047,
          4272,
          4668,
          3024,
          3552
         ]
        },
        {
         "name": "rferl.org",
         "type": "bar",
         "visible": false,
         "x": [
          "ES → DE → CH",
          "ES → DE → DE",
          "ES → DE → FI",
          "ES → DE → HU",
          "ES → PL → FI",
          "ES → PL → SE",
          "ES → SE → SE",
          "NL → DE → DE",
          "NL → DE → NL",
          "NL → DE → US",
          "NL → PL → DE",
          "NL → PL → GB",
          "NL → PL → NL",
          "NL → SE → DE",
          "NL → SE → FR"
         ],
         "y": [
          8508,
          9040,
          10150,
          9203,
          10562,
          7766,
          10851,
          7015,
          9503,
          6581,
          6542,
          7404,
          7556,
          8076,
          9656
         ]
        },
        {
         "name": "riseup.net",
         "type": "bar",
         "visible": false,
         "x": [
          "ES → DE → CZ",
          "ES → DE → DE",
          "ES → DE → NL",
          "ES → DE → SE",
          "ES → PL → NL",
          "ES → PL → SE",
          "ES → SE → FR",
          "ES → SE → NL",
          "NL → DE → DE",
          "NL → DE → FI",
          "NL → DE → FR",
          "NL → DE → NL",
          "NL → DE → US",
          "NL → PL → BG",
          "NL → PL → SE",
          "NL → PL → US",
          "NL → SE → DE",
          "NL → SE → EE",
          "NL → SE → FI"
         ],
         "y": [
          5754,
          5013,
          5062,
          5596,
          5627,
          8894,
          5557,
          5717,
          5435,
          5970,
          4410,
          4782,
          4318,
          5303,
          5372,
          3998,
          5205,
          5416,
          6139
         ]
        },
        {
         "name": "svoboda.org",
         "type": "bar",
         "visible": false,
         "x": [
          "ES → DE → AT",
          "ES → DE → FI",
          "ES → DE → FR",
          "ES → DE → PL",
          "ES → PL → DE",
          "ES → PL → FR",
          "ES → PL → LU",
          "ES → PL → NL",
          "ES → SE → FR",
          "ES → SE → NO",
          "NL → DE → DE",
          "NL → DE → NO",
          "NL → DE → US",
          "NL → PL → DE",
          "NL → PL → FI",
          "NL → SE → DE",
          "NL → SE → NL"
         ],
         "y": [
          9032,
          11669,
          11758,
          50950,
          8517,
          7759,
          11723,
          8720,
          12291,
          9344,
          10124,
          10444,
          11155,
          7606,
          10774,
          9801,
          9452
         ]
        },
        {
         "name": "taz.de",
         "type": "bar",
         "visible": false,
         "x": [
          "ES → DE → DE",
          "ES → DE → EE",
          "ES → DE → FI",
          "ES → DE → LV",
          "ES → DE → PL",
          "ES → SE → DE",
          "NA",
          "NL → DE → DE",
          "NL → DE → FR",
          "NL → DE → NL",
          "NL → DE → US",
          "NL → PL → FR",
          "NL → PL → NL",
          "NL → PL → UA",
          "NL → PL → US",
          "NL → SE → CH"
         ],
         "y": [
          4396,
          5043,
          4877,
          4133,
          5864,
          6318,
          4234,
          5035,
          5447,
          3347,
          5871,
          5868,
          6303,
          6784,
          9270,
          7548
         ]
        },
        {
         "name": "theguardian.com",
         "type": "bar",
         "visible": false,
         "x": [
          "ES → DE → MD",
          "ES → DE → NL",
          "ES → DE → RO",
          "ES → PL → DE",
          "ES → PL → US",
          "NL → DE → DE",
          "NL → DE → FI",
          "NL → DE → NL",
          "NL → DE → SE",
          "NL → PL → DE",
          "NL → PL → US",
          "NL → SE → DE",
          "NL → SE → FI",
          "NL → SE → GB",
          "NL → SE → NL",
          "NL → SE → SE"
         ],
         "y": [
          6544,
          37745,
          23900,
          36435,
          8572,
          9180,
          24263,
          6285,
          44797,
          21512,
          41851,
          8220,
          11688,
          20278,
          24588,
          8282
         ]
        },
        {
         "name": "torproject.org",
         "type": "bar",
         "visible": false,
         "x": [
          "ES → DE → BE",
          "NA",
          "NL → DE → DE"
         ],
         "y": [
          4041,
          2706,
          5757
         ]
        },
        {
         "name": "voanews.com",
         "type": "bar",
         "visible": false,
         "x": [
          "ES → DE → DE",
          "ES → DE → FI",
          "ES → DE → FR",
          "ES → DE → NL",
          "ES → PL → DE",
          "ES → PL → FI",
          "ES → SE → FI",
          "NL → DE → DE",
          "NL → DE → FI",
          "NL → DE → FR",
          "NL → DE → RU",
          "NL → DE → SE",
          "NL → PL → GB",
          "NL → PL → NL",
          "NL → PL → PL",
          "NL → SE → DE",
          "NL → SE → SE"
         ],
         "y": [
          8959,
          11529,
          9507,
          9459,
          9256,
          10465,
          8610,
          6922,
          8480,
          6882,
          11388,
          8284,
          9197,
          8296,
          8339,
          7535,
          8133
         ]
        },
        {
         "name": "wiz.biz",
         "type": "bar",
         "visible": false,
         "x": [
          "ES → DE → DE",
          "ES → PL → CZ",
          "ES → PL → US",
          "ES → SE → DK",
          "ES → SE → FR",
          "ES → SE → GB",
          "NL → DE → DE",
          "NL → DE → NL",
          "NL → DE → US",
          "NL → PL → DE",
          "NL → PL → US",
          "NL → SE → DE"
         ],
         "y": [
          4741,
          3123,
          3997,
          3503,
          4737,
          3474,
          3969,
          2886,
          3947,
          2708,
          3262,
          2991
         ]
        }
       ],
       "layout": {
        "height": 600,
        "margin": {
         "t": 120
        },
        "template": {
         "data": {
          "bar": [
           {
            "error_x": {
             "color": "#2a3f5f"
            },
            "error_y": {
             "color": "#2a3f5f"
            },
            "marker": {
             "line": {
              "color": "#E5ECF6",
              "width": 0.5
             },
             "pattern": {
              "fillmode": "overlay",
              "size": 10,
              "solidity": 0.2
             }
            },
            "type": "bar"
           }
          ],
          "barpolar": [
           {
            "marker": {
             "line": {
              "color": "#E5ECF6",
              "width": 0.5
             },
             "pattern": {
              "fillmode": "overlay",
              "size": 10,
              "solidity": 0.2
             }
            },
            "type": "barpolar"
           }
          ],
          "carpet": [
           {
            "aaxis": {
             "endlinecolor": "#2a3f5f",
             "gridcolor": "white",
             "linecolor": "white",
             "minorgridcolor": "white",
             "startlinecolor": "#2a3f5f"
            },
            "baxis": {
             "endlinecolor": "#2a3f5f",
             "gridcolor": "white",
             "linecolor": "white",
             "minorgridcolor": "white",
             "startlinecolor": "#2a3f5f"
            },
            "type": "carpet"
           }
          ],
          "choropleth": [
           {
            "colorbar": {
             "outlinewidth": 0,
             "ticks": ""
            },
            "type": "choropleth"
           }
          ],
          "contour": [
           {
            "colorbar": {
             "outlinewidth": 0,
             "ticks": ""
            },
            "colorscale": [
             [
              0,
              "#0d0887"
             ],
             [
              0.1111111111111111,
              "#46039f"
             ],
             [
              0.2222222222222222,
              "#7201a8"
             ],
             [
              0.3333333333333333,
              "#9c179e"
             ],
             [
              0.4444444444444444,
              "#bd3786"
             ],
             [
              0.5555555555555556,
              "#d8576b"
             ],
             [
              0.6666666666666666,
              "#ed7953"
             ],
             [
              0.7777777777777778,
              "#fb9f3a"
             ],
             [
              0.8888888888888888,
              "#fdca26"
             ],
             [
              1,
              "#f0f921"
             ]
            ],
            "type": "contour"
           }
          ],
          "contourcarpet": [
           {
            "colorbar": {
             "outlinewidth": 0,
             "ticks": ""
            },
            "type": "contourcarpet"
           }
          ],
          "heatmap": [
           {
            "colorbar": {
             "outlinewidth": 0,
             "ticks": ""
            },
            "colorscale": [
             [
              0,
              "#0d0887"
             ],
             [
              0.1111111111111111,
              "#46039f"
             ],
             [
              0.2222222222222222,
              "#7201a8"
             ],
             [
              0.3333333333333333,
              "#9c179e"
             ],
             [
              0.4444444444444444,
              "#bd3786"
             ],
             [
              0.5555555555555556,
              "#d8576b"
             ],
             [
              0.6666666666666666,
              "#ed7953"
             ],
             [
              0.7777777777777778,
              "#fb9f3a"
             ],
             [
              0.8888888888888888,
              "#fdca26"
             ],
             [
              1,
              "#f0f921"
             ]
            ],
            "type": "heatmap"
           }
          ],
          "heatmapgl": [
           {
            "colorbar": {
             "outlinewidth": 0,
             "ticks": ""
            },
            "colorscale": [
             [
              0,
              "#0d0887"
             ],
             [
              0.1111111111111111,
              "#46039f"
             ],
             [
              0.2222222222222222,
              "#7201a8"
             ],
             [
              0.3333333333333333,
              "#9c179e"
             ],
             [
              0.4444444444444444,
              "#bd3786"
             ],
             [
              0.5555555555555556,
              "#d8576b"
             ],
             [
              0.6666666666666666,
              "#ed7953"
             ],
             [
              0.7777777777777778,
              "#fb9f3a"
             ],
             [
              0.8888888888888888,
              "#fdca26"
             ],
             [
              1,
              "#f0f921"
             ]
            ],
            "type": "heatmapgl"
           }
          ],
          "histogram": [
           {
            "marker": {
             "pattern": {
              "fillmode": "overlay",
              "size": 10,
              "solidity": 0.2
             }
            },
            "type": "histogram"
           }
          ],
          "histogram2d": [
           {
            "colorbar": {
             "outlinewidth": 0,
             "ticks": ""
            },
            "colorscale": [
             [
              0,
              "#0d0887"
             ],
             [
              0.1111111111111111,
              "#46039f"
             ],
             [
              0.2222222222222222,
              "#7201a8"
             ],
             [
              0.3333333333333333,
              "#9c179e"
             ],
             [
              0.4444444444444444,
              "#bd3786"
             ],
             [
              0.5555555555555556,
              "#d8576b"
             ],
             [
              0.6666666666666666,
              "#ed7953"
             ],
             [
              0.7777777777777778,
              "#fb9f3a"
             ],
             [
              0.8888888888888888,
              "#fdca26"
             ],
             [
              1,
              "#f0f921"
             ]
            ],
            "type": "histogram2d"
           }
          ],
          "histogram2dcontour": [
           {
            "colorbar": {
             "outlinewidth": 0,
             "ticks": ""
            },
            "colorscale": [
             [
              0,
              "#0d0887"
             ],
             [
              0.1111111111111111,
              "#46039f"
             ],
             [
              0.2222222222222222,
              "#7201a8"
             ],
             [
              0.3333333333333333,
              "#9c179e"
             ],
             [
              0.4444444444444444,
              "#bd3786"
             ],
             [
              0.5555555555555556,
              "#d8576b"
             ],
             [
              0.6666666666666666,
              "#ed7953"
             ],
             [
              0.7777777777777778,
              "#fb9f3a"
             ],
             [
              0.8888888888888888,
              "#fdca26"
             ],
             [
              1,
              "#f0f921"
             ]
            ],
            "type": "histogram2dcontour"
           }
          ],
          "mesh3d": [
           {
            "colorbar": {
             "outlinewidth": 0,
             "ticks": ""
            },
            "type": "mesh3d"
           }
          ],
          "parcoords": [
           {
            "line": {
             "colorbar": {
              "outlinewidth": 0,
              "ticks": ""
             }
            },
            "type": "parcoords"
           }
          ],
          "pie": [
           {
            "automargin": true,
            "type": "pie"
           }
          ],
          "scatter": [
           {
            "fillpattern": {
             "fillmode": "overlay",
             "size": 10,
             "solidity": 0.2
            },
            "type": "scatter"
           }
          ],
          "scatter3d": [
           {
            "line": {
             "colorbar": {
              "outlinewidth": 0,
              "ticks": ""
             }
            },
            "marker": {
             "colorbar": {
              "outlinewidth": 0,
              "ticks": ""
             }
            },
            "type": "scatter3d"
           }
          ],
          "scattercarpet": [
           {
            "marker": {
             "colorbar": {
              "outlinewidth": 0,
              "ticks": ""
             }
            },
            "type": "scattercarpet"
           }
          ],
          "scattergeo": [
           {
            "marker": {
             "colorbar": {
              "outlinewidth": 0,
              "ticks": ""
             }
            },
            "type": "scattergeo"
           }
          ],
          "scattergl": [
           {
            "marker": {
             "colorbar": {
              "outlinewidth": 0,
              "ticks": ""
             }
            },
            "type": "scattergl"
           }
          ],
          "scattermapbox": [
           {
            "marker": {
             "colorbar": {
              "outlinewidth": 0,
              "ticks": ""
             }
            },
            "type": "scattermapbox"
           }
          ],
          "scatterpolar": [
           {
            "marker": {
             "colorbar": {
              "outlinewidth": 0,
              "ticks": ""
             }
            },
            "type": "scatterpolar"
           }
          ],
          "scatterpolargl": [
           {
            "marker": {
             "colorbar": {
              "outlinewidth": 0,
              "ticks": ""
             }
            },
            "type": "scatterpolargl"
           }
          ],
          "scatterternary": [
           {
            "marker": {
             "colorbar": {
              "outlinewidth": 0,
              "ticks": ""
             }
            },
            "type": "scatterternary"
           }
          ],
          "surface": [
           {
            "colorbar": {
             "outlinewidth": 0,
             "ticks": ""
            },
            "colorscale": [
             [
              0,
              "#0d0887"
             ],
             [
              0.1111111111111111,
              "#46039f"
             ],
             [
              0.2222222222222222,
              "#7201a8"
             ],
             [
              0.3333333333333333,
              "#9c179e"
             ],
             [
              0.4444444444444444,
              "#bd3786"
             ],
             [
              0.5555555555555556,
              "#d8576b"
             ],
             [
              0.6666666666666666,
              "#ed7953"
             ],
             [
              0.7777777777777778,
              "#fb9f3a"
             ],
             [
              0.8888888888888888,
              "#fdca26"
             ],
             [
              1,
              "#f0f921"
             ]
            ],
            "type": "surface"
           }
          ],
          "table": [
           {
            "cells": {
             "fill": {
              "color": "#EBF0F8"
             },
             "line": {
              "color": "white"
             }
            },
            "header": {
             "fill": {
              "color": "#C8D4E3"
             },
             "line": {
              "color": "white"
             }
            },
            "type": "table"
           }
          ]
         },
         "layout": {
          "annotationdefaults": {
           "arrowcolor": "#2a3f5f",
           "arrowhead": 0,
           "arrowwidth": 1
          },
          "autotypenumbers": "strict",
          "coloraxis": {
           "colorbar": {
            "outlinewidth": 0,
            "ticks": ""
           }
          },
          "colorscale": {
           "diverging": [
            [
             0,
             "#8e0152"
            ],
            [
             0.1,
             "#c51b7d"
            ],
            [
             0.2,
             "#de77ae"
            ],
            [
             0.3,
             "#f1b6da"
            ],
            [
             0.4,
             "#fde0ef"
            ],
            [
             0.5,
             "#f7f7f7"
            ],
            [
             0.6,
             "#e6f5d0"
            ],
            [
             0.7,
             "#b8e186"
            ],
            [
             0.8,
             "#7fbc41"
            ],
            [
             0.9,
             "#4d9221"
            ],
            [
             1,
             "#276419"
            ]
           ],
           "sequential": [
            [
             0,
             "#0d0887"
            ],
            [
             0.1111111111111111,
             "#46039f"
            ],
            [
             0.2222222222222222,
             "#7201a8"
            ],
            [
             0.3333333333333333,
             "#9c179e"
            ],
            [
             0.4444444444444444,
             "#bd3786"
            ],
            [
             0.5555555555555556,
             "#d8576b"
            ],
            [
             0.6666666666666666,
             "#ed7953"
            ],
            [
             0.7777777777777778,
             "#fb9f3a"
            ],
            [
             0.8888888888888888,
             "#fdca26"
            ],
            [
             1,
             "#f0f921"
            ]
           ],
           "sequentialminus": [
            [
             0,
             "#0d0887"
            ],
            [
             0.1111111111111111,
             "#46039f"
            ],
            [
             0.2222222222222222,
             "#7201a8"
            ],
            [
             0.3333333333333333,
             "#9c179e"
            ],
            [
             0.4444444444444444,
             "#bd3786"
            ],
            [
             0.5555555555555556,
             "#d8576b"
            ],
            [
             0.6666666666666666,
             "#ed7953"
            ],
            [
             0.7777777777777778,
             "#fb9f3a"
            ],
            [
             0.8888888888888888,
             "#fdca26"
            ],
            [
             1,
             "#f0f921"
            ]
           ]
          },
          "colorway": [
           "#636efa",
           "#EF553B",
           "#00cc96",
           "#ab63fa",
           "#FFA15A",
           "#19d3f3",
           "#FF6692",
           "#B6E880",
           "#FF97FF",
           "#FECB52"
          ],
          "font": {
           "color": "#2a3f5f"
          },
          "geo": {
           "bgcolor": "white",
           "lakecolor": "white",
           "landcolor": "#E5ECF6",
           "showlakes": true,
           "showland": true,
           "subunitcolor": "white"
          },
          "hoverlabel": {
           "align": "left"
          },
          "hovermode": "closest",
          "mapbox": {
           "style": "light"
          },
          "paper_bgcolor": "white",
          "plot_bgcolor": "#E5ECF6",
          "polar": {
           "angularaxis": {
            "gridcolor": "white",
            "linecolor": "white",
            "ticks": ""
           },
           "bgcolor": "#E5ECF6",
           "radialaxis": {
            "gridcolor": "white",
            "linecolor": "white",
            "ticks": ""
           }
          },
          "scene": {
           "xaxis": {
            "backgroundcolor": "#E5ECF6",
            "gridcolor": "white",
            "gridwidth": 2,
            "linecolor": "white",
            "showbackground": true,
            "ticks": "",
            "zerolinecolor": "white"
           },
           "yaxis": {
            "backgroundcolor": "#E5ECF6",
            "gridcolor": "white",
            "gridwidth": 2,
            "linecolor": "white",
            "showbackground": true,
            "ticks": "",
            "zerolinecolor": "white"
           },
           "zaxis": {
            "backgroundcolor": "#E5ECF6",
            "gridcolor": "white",
            "gridwidth": 2,
            "linecolor": "white",
            "showbackground": true,
            "ticks": "",
            "zerolinecolor": "white"
           }
          },
          "shapedefaults": {
           "line": {
            "color": "#2a3f5f"
           }
          },
          "ternary": {
           "aaxis": {
            "gridcolor": "white",
            "linecolor": "white",
            "ticks": ""
           },
           "baxis": {
            "gridcolor": "white",
            "linecolor": "white",
            "ticks": ""
           },
           "bgcolor": "#E5ECF6",
           "caxis": {
            "gridcolor": "white",
            "linecolor": "white",
            "ticks": ""
           }
          },
          "title": {
           "x": 0.05
          },
          "xaxis": {
           "automargin": true,
           "gridcolor": "white",
           "linecolor": "white",
           "ticks": "",
           "title": {
            "standoff": 15
           },
           "zerolinecolor": "white",
           "zerolinewidth": 2
          },
          "yaxis": {
           "automargin": true,
           "gridcolor": "white",
           "linecolor": "white",
           "ticks": "",
           "title": {
            "standoff": 15
           },
           "zerolinecolor": "white",
           "zerolinewidth": 2
          }
         }
        },
        "title": {
         "text": "Page Load Time for amnesty.org per Relay Country Path"
        },
        "updatemenus": [
         {
          "active": 0,
          "buttons": [
           {
            "args": [
             {
              "visible": [
               true,
               false,
               false,
               false,
               false,
               false,
               false,
               false,
               false,
               false,
               false,
               false,
               false,
               false,
               false,
               false,
               false,
               false,
               false,
               false,
               false,
               false,
               false
              ]
             },
             {
              "title": "Page Load Time for amnesty.org per Relay Country Path",
              "xaxis": {
               "title": "Relay Country Path"
              },
              "yaxis": {
               "title": "Page Load Time (ms)"
              }
             }
            ],
            "label": "amnesty.org",
            "method": "update"
           },
           {
            "args": [
             {
              "visible": [
               false,
               true,
               false,
               false,
               false,
               false,
               false,
               false,
               false,
               false,
               false,
               false,
               false,
               false,
               false,
               false,
               false,
               false,
               false,
               false,
               false,
               false,
               false
              ]
             },
             {
              "title": "Page Load Time for archive.is per Relay Country Path",
              "xaxis": {
               "title": "Relay Country Path"
              },
              "yaxis": {
               "title": "Page Load Time (ms)"
              }
             }
            ],
            "label": "archive.is",
            "method": "update"
           },
           {
            "args": [
             {
              "visible": [
               false,
               false,
               true,
               false,
               false,
               false,
               false,
               false,
               false,
               false,
               false,
               false,
               false,
               false,
               false,
               false,
               false,
               false,
               false,
               false,
               false,
               false,
               false
              ]
             },
             {
              "title": "Page Load Time for archive.org per Relay Country Path",
              "xaxis": {
               "title": "Relay Country Path"
              },
              "yaxis": {
               "title": "Page Load Time (ms)"
              }
             }
            ],
            "label": "archive.org",
            "method": "update"
           },
           {
            "args": [
             {
              "visible": [
               false,
               false,
               false,
               true,
               false,
               false,
               false,
               false,
               false,
               false,
               false,
               false,
               false,
               false,
               false,
               false,
               false,
               false,
               false,
               false,
               false,
               false,
               false
              ]
             },
             {
              "title": "Page Load Time for archive.ph per Relay Country Path",
              "xaxis": {
               "title": "Relay Country Path"
              },
              "yaxis": {
               "title": "Page Load Time (ms)"
              }
             }
            ],
            "label": "archive.ph",
            "method": "update"
           },
           {
            "args": [
             {
              "visible": [
               false,
               false,
               false,
               false,
               true,
               false,
               false,
               false,
               false,
               false,
               false,
               false,
               false,
               false,
               false,
               false,
               false,
               false,
               false,
               false,
               false,
               false,
               false
              ]
             },
             {
              "title": "Page Load Time for blockstream.info per Relay Country Path",
              "xaxis": {
               "title": "Relay Country Path"
              },
              "yaxis": {
               "title": "Page Load Time (ms)"
              }
             }
            ],
            "label": "blockstream.info",
            "method": "update"
           },
           {
            "args": [
             {
              "visible": [
               false,
               false,
               false,
               false,
               false,
               true,
               false,
               false,
               false,
               false,
               false,
               false,
               false,
               false,
               false,
               false,
               false,
               false,
               false,
               false,
               false,
               false,
               false
              ]
             },
             {
              "title": "Page Load Time for brave.com per Relay Country Path",
              "xaxis": {
               "title": "Relay Country Path"
              },
              "yaxis": {
               "title": "Page Load Time (ms)"
              }
             }
            ],
            "label": "brave.com",
            "method": "update"
           },
           {
            "args": [
             {
              "visible": [
               false,
               false,
               false,
               false,
               false,
               false,
               true,
               false,
               false,
               false,
               false,
               false,
               false,
               false,
               false,
               false,
               false,
               false,
               false,
               false,
               false,
               false,
               false
              ]
             },
             {
              "title": "Page Load Time for cock.li per Relay Country Path",
              "xaxis": {
               "title": "Relay Country Path"
              },
              "yaxis": {
               "title": "Page Load Time (ms)"
              }
             }
            ],
            "label": "cock.li",
            "method": "update"
           },
           {
            "args": [
             {
              "visible": [
               false,
               false,
               false,
               false,
               false,
               false,
               false,
               true,
               false,
               false,
               false,
               false,
               false,
               false,
               false,
               false,
               false,
               false,
               false,
               false,
               false,
               false,
               false
              ]
             },
             {
              "title": "Page Load Time for f-droid.org per Relay Country Path",
              "xaxis": {
               "title": "Relay Country Path"
              },
              "yaxis": {
               "title": "Page Load Time (ms)"
              }
             }
            ],
            "label": "f-droid.org",
            "method": "update"
           },
           {
            "args": [
             {
              "visible": [
               false,
               false,
               false,
               false,
               false,
               false,
               false,
               false,
               true,
               false,
               false,
               false,
               false,
               false,
               false,
               false,
               false,
               false,
               false,
               false,
               false,
               false,
               false
              ]
             },
             {
              "title": "Page Load Time for guardian.co.uk per Relay Country Path",
              "xaxis": {
               "title": "Relay Country Path"
              },
              "yaxis": {
               "title": "Page Load Time (ms)"
              }
             }
            ],
            "label": "guardian.co.uk",
            "method": "update"
           },
           {
            "args": [
             {
              "visible": [
               false,
               false,
               false,
               false,
               false,
               false,
               false,
               false,
               false,
               true,
               false,
               false,
               false,
               false,
               false,
               false,
               false,
               false,
               false,
               false,
               false,
               false,
               false
              ]
             },
             {
              "title": "Page Load Time for marxists.org per Relay Country Path",
              "xaxis": {
               "title": "Relay Country Path"
              },
              "yaxis": {
               "title": "Page Load Time (ms)"
              }
             }
            ],
            "label": "marxists.org",
            "method": "update"
           },
           {
            "args": [
             {
              "visible": [
               false,
               false,
               false,
               false,
               false,
               false,
               false,
               false,
               false,
               false,
               true,
               false,
               false,
               false,
               false,
               false,
               false,
               false,
               false,
               false,
               false,
               false,
               false
              ]
             },
             {
              "title": "Page Load Time for mediapart.fr per Relay Country Path",
              "xaxis": {
               "title": "Relay Country Path"
              },
              "yaxis": {
               "title": "Page Load Time (ms)"
              }
             }
            ],
            "label": "mediapart.fr",
            "method": "update"
           },
           {
            "args": [
             {
              "visible": [
               false,
               false,
               false,
               false,
               false,
               false,
               false,
               false,
               false,
               false,
               false,
               true,
               false,
               false,
               false,
               false,
               false,
               false,
               false,
               false,
               false,
               false,
               false
              ]
             },
             {
              "title": "Page Load Time for mempool.space per Relay Country Path",
              "xaxis": {
               "title": "Relay Country Path"
              },
              "yaxis": {
               "title": "Page Load Time (ms)"
              }
             }
            ],
            "label": "mempool.space",
            "method": "update"
           },
           {
            "args": [
             {
              "visible": [
               false,
               false,
               false,
               false,
               false,
               false,
               false,
               false,
               false,
               false,
               false,
               false,
               true,
               false,
               false,
               false,
               false,
               false,
               false,
               false,
               false,
               false,
               false
              ]
             },
             {
              "title": "Page Load Time for mullvad.net per Relay Country Path",
              "xaxis": {
               "title": "Relay Country Path"
              },
              "yaxis": {
               "title": "Page Load Time (ms)"
              }
             }
            ],
            "label": "mullvad.net",
            "method": "update"
           },
           {
            "args": [
             {
              "visible": [
               false,
               false,
               false,
               false,
               false,
               false,
               false,
               false,
               false,
               false,
               false,
               false,
               false,
               true,
               false,
               false,
               false,
               false,
               false,
               false,
               false,
               false,
               false
              ]
             },
             {
              "title": "Page Load Time for propublica.org per Relay Country Path",
              "xaxis": {
               "title": "Relay Country Path"
              },
              "yaxis": {
               "title": "Page Load Time (ms)"
              }
             }
            ],
            "label": "propublica.org",
            "method": "update"
           },
           {
            "args": [
             {
              "visible": [
               false,
               false,
               false,
               false,
               false,
               false,
               false,
               false,
               false,
               false,
               false,
               false,
               false,
               false,
               true,
               false,
               false,
               false,
               false,
               false,
               false,
               false,
               false
              ]
             },
             {
              "title": "Page Load Time for proton.me per Relay Country Path",
              "xaxis": {
               "title": "Relay Country Path"
              },
              "yaxis": {
               "title": "Page Load Time (ms)"
              }
             }
            ],
            "label": "proton.me",
            "method": "update"
           },
           {
            "args": [
             {
              "visible": [
               false,
               false,
               false,
               false,
               false,
               false,
               false,
               false,
               false,
               false,
               false,
               false,
               false,
               false,
               false,
               true,
               false,
               false,
               false,
               false,
               false,
               false,
               false
              ]
             },
             {
              "title": "Page Load Time for rferl.org per Relay Country Path",
              "xaxis": {
               "title": "Relay Country Path"
              },
              "yaxis": {
               "title": "Page Load Time (ms)"
              }
             }
            ],
            "label": "rferl.org",
            "method": "update"
           },
           {
            "args": [
             {
              "visible": [
               false,
               false,
               false,
               false,
               false,
               false,
               false,
               false,
               false,
               false,
               false,
               false,
               false,
               false,
               false,
               false,
               true,
               false,
               false,
               false,
               false,
               false,
               false
              ]
             },
             {
              "title": "Page Load Time for riseup.net per Relay Country Path",
              "xaxis": {
               "title": "Relay Country Path"
              },
              "yaxis": {
               "title": "Page Load Time (ms)"
              }
             }
            ],
            "label": "riseup.net",
            "method": "update"
           },
           {
            "args": [
             {
              "visible": [
               false,
               false,
               false,
               false,
               false,
               false,
               false,
               false,
               false,
               false,
               false,
               false,
               false,
               false,
               false,
               false,
               false,
               true,
               false,
               false,
               false,
               false,
               false
              ]
             },
             {
              "title": "Page Load Time for svoboda.org per Relay Country Path",
              "xaxis": {
               "title": "Relay Country Path"
              },
              "yaxis": {
               "title": "Page Load Time (ms)"
              }
             }
            ],
            "label": "svoboda.org",
            "method": "update"
           },
           {
            "args": [
             {
              "visible": [
               false,
               false,
               false,
               false,
               false,
               false,
               false,
               false,
               false,
               false,
               false,
               false,
               false,
               false,
               false,
               false,
               false,
               false,
               true,
               false,
               false,
               false,
               false
              ]
             },
             {
              "title": "Page Load Time for taz.de per Relay Country Path",
              "xaxis": {
               "title": "Relay Country Path"
              },
              "yaxis": {
               "title": "Page Load Time (ms)"
              }
             }
            ],
            "label": "taz.de",
            "method": "update"
           },
           {
            "args": [
             {
              "visible": [
               false,
               false,
               false,
               false,
               false,
               false,
               false,
               false,
               false,
               false,
               false,
               false,
               false,
               false,
               false,
               false,
               false,
               false,
               false,
               true,
               false,
               false,
               false
              ]
             },
             {
              "title": "Page Load Time for theguardian.com per Relay Country Path",
              "xaxis": {
               "title": "Relay Country Path"
              },
              "yaxis": {
               "title": "Page Load Time (ms)"
              }
             }
            ],
            "label": "theguardian.com",
            "method": "update"
           },
           {
            "args": [
             {
              "visible": [
               false,
               false,
               false,
               false,
               false,
               false,
               false,
               false,
               false,
               false,
               false,
               false,
               false,
               false,
               false,
               false,
               false,
               false,
               false,
               false,
               true,
               false,
               false
              ]
             },
             {
              "title": "Page Load Time for torproject.org per Relay Country Path",
              "xaxis": {
               "title": "Relay Country Path"
              },
              "yaxis": {
               "title": "Page Load Time (ms)"
              }
             }
            ],
            "label": "torproject.org",
            "method": "update"
           },
           {
            "args": [
             {
              "visible": [
               false,
               false,
               false,
               false,
               false,
               false,
               false,
               false,
               false,
               false,
               false,
               false,
               false,
               false,
               false,
               false,
               false,
               false,
               false,
               false,
               false,
               true,
               false
              ]
             },
             {
              "title": "Page Load Time for voanews.com per Relay Country Path",
              "xaxis": {
               "title": "Relay Country Path"
              },
              "yaxis": {
               "title": "Page Load Time (ms)"
              }
             }
            ],
            "label": "voanews.com",
            "method": "update"
           },
           {
            "args": [
             {
              "visible": [
               false,
               false,
               false,
               false,
               false,
               false,
               false,
               false,
               false,
               false,
               false,
               false,
               false,
               false,
               false,
               false,
               false,
               false,
               false,
               false,
               false,
               false,
               true
              ]
             },
             {
              "title": "Page Load Time for wiz.biz per Relay Country Path",
              "xaxis": {
               "title": "Relay Country Path"
              },
              "yaxis": {
               "title": "Page Load Time (ms)"
              }
             }
            ],
            "label": "wiz.biz",
            "method": "update"
           }
          ],
          "x": 0,
          "xanchor": "left",
          "y": 1.05,
          "yanchor": "top"
         }
        ],
        "width": 900,
        "xaxis": {
         "autorange": true,
         "range": [
          -0.5,
          16.5
         ],
         "tickangle": 45,
         "tickfont": {
          "size": 10
         },
         "type": "category"
        },
        "yaxis": {
         "autorange": true,
         "range": [
          0,
          22364.21052631579
         ],
         "title": {
          "text": "Page Load Time (ms)"
         },
         "type": "linear"
        }
       }
      },
      "image/png": "[encoded data removed]",
      "text/html": [
       "<div>                            <div id=\"f741559b-9c3d-4856-9031-b022f522f9ba\" class=\"plotly-graph-div\" style=\"height:600px; width:900px;\"></div>            <script type=\"text/javascript\">                require([\"plotly\"], function(Plotly) {                    window.PLOTLYENV=window.PLOTLYENV || {};                                    if (document.getElementById(\"f741559b-9c3d-4856-9031-b022f522f9ba\")) {                    Plotly.newPlot(                        \"f741559b-9c3d-4856-9031-b022f522f9ba\",                        [{\"name\":\"amnesty.org\",\"visible\":true,\"x\":[\"ES \\u2192 PL \\u2192 DE\",\"ES \\u2192 PL \\u2192 US\",\"ES \\u2192 SE \\u2192 DE\",\"ES \\u2192 SE \\u2192 FR\",\"NL \\u2192 DE \\u2192 CZ\",\"NL \\u2192 DE \\u2192 DE\",\"NL \\u2192 DE \\u2192 FI\",\"NL \\u2192 DE \\u2192 NL\",\"NL \\u2192 DE \\u2192 PL\",\"NL \\u2192 DE \\u2192 UA\",\"NL \\u2192 DE \\u2192 US\",\"NL \\u2192 PL \\u2192 DE\",\"NL \\u2192 PL \\u2192 FI\",\"NL \\u2192 PL \\u2192 PL\",\"NL \\u2192 PL \\u2192 US\",\"NL \\u2192 SE \\u2192 DE\",\"NL \\u2192 SE \\u2192 FI\"],\"y\":[11056,17653,7043,21246,10389,5624,6667,5889,6054,10382,9631,8147,7731,9608,17277,6672,17019],\"type\":\"bar\"},{\"name\":\"archive.is\",\"visible\":false,\"x\":[\"ES \\u2192 DE \\u2192 FI\",\"ES \\u2192 DE \\u2192 NL\",\"ES \\u2192 DE \\u2192 SE\",\"ES \\u2192 DE \\u2192 US\",\"ES \\u2192 PL \\u2192 DE\",\"ES \\u2192 PL \\u2192 RO\",\"ES \\u2192 SE \\u2192 DE\",\"NL \\u2192 DE \\u2192 DE\",\"NL \\u2192 DE \\u2192 FI\",\"NL \\u2192 DE \\u2192 NL\",\"NL \\u2192 PL \\u2192 DE\",\"NL \\u2192 PL \\u2192 GB\",\"NL \\u2192 PL \\u2192 US\",\"NL \\u2192 SE \\u2192 DE\",\"NL \\u2192 SE \\u2192 FR\",\"NL \\u2192 SE \\u2192 LV\",\"NL \\u2192 SE \\u2192 NL\"],\"y\":[3207,2585,2422,3288,3361,2624,2666,3196,2790,2054,2789,2950,3259,6066,2373,2320,2162],\"type\":\"bar\"},{\"name\":\"archive.org\",\"visible\":false,\"x\":[\"ES \\u2192 DE \\u2192 DE\",\"ES \\u2192 DE \\u2192 NL\",\"ES \\u2192 PL \\u2192 GB\",\"ES \\u2192 SE \\u2192 DE\",\"ES \\u2192 SE \\u2192 FR\",\"ES \\u2192 SE \\u2192 GB\",\"NL \\u2192 DE \\u2192 CZ\",\"NL \\u2192 DE \\u2192 DE\",\"NL \\u2192 DE \\u2192 FR\",\"NL \\u2192 DE \\u2192 NL\",\"NL \\u2192 DE \\u2192 SE\",\"NL \\u2192 PL \\u2192 DE\",\"NL \\u2192 PL \\u2192 FR\",\"NL \\u2192 PL \\u2192 US\",\"NL \\u2192 SE \\u2192 CZ\",\"NL \\u2192 SE \\u2192 FR\",\"NL \\u2192 SE \\u2192 NL\",\"NL \\u2192 SE \\u2192 SE\"],\"y\":[11123,12008,12759,8239,8756,11465,9618,11173,10009,6579,11821,7463,10484,9590,9735,6532,10193,7941],\"type\":\"bar\"},{\"name\":\"archive.ph\",\"visible\":false,\"x\":[\"ES \\u2192 DE \\u2192 FI\",\"ES \\u2192 DE \\u2192 NL\",\"ES \\u2192 DE \\u2192 SE\",\"ES \\u2192 DE \\u2192 US\",\"ES \\u2192 PL \\u2192 DE\",\"ES \\u2192 PL \\u2192 RO\",\"ES \\u2192 SE \\u2192 DE\",\"NL \\u2192 DE \\u2192 DE\",\"NL \\u2192 DE \\u2192 FI\",\"NL \\u2192 DE \\u2192 NL\",\"NL \\u2192 PL \\u2192 DE\",\"NL \\u2192 PL \\u2192 GB\",\"NL \\u2192 PL \\u2192 US\",\"NL \\u2192 SE \\u2192 DE\",\"NL \\u2192 SE \\u2192 FR\",\"NL \\u2192 SE \\u2192 LV\",\"NL \\u2192 SE \\u2192 NL\"],\"y\":[1272,1333,1200,1706,1600,1337,1221,1349,1376,1105,1081,1282,1500,1391,1150,985,1086],\"type\":\"bar\"},{\"name\":\"blockstream.info\",\"visible\":false,\"x\":[\"ES \\u2192 DE \\u2192 DE\",\"ES \\u2192 DE \\u2192 NL\",\"ES \\u2192 DE \\u2192 US\",\"ES \\u2192 PL \\u2192 DE\",\"ES \\u2192 SE \\u2192 FR\",\"NL \\u2192 DE \\u2192 CZ\",\"NL \\u2192 DE \\u2192 DE\",\"NL \\u2192 DE \\u2192 FR\",\"NL \\u2192 PL \\u2192 DE\",\"NL \\u2192 PL \\u2192 IT\",\"NL \\u2192 PL \\u2192 LT\",\"NL \\u2192 PL \\u2192 NL\",\"NL \\u2192 SE \\u2192 DE\",\"NL \\u2192 SE \\u2192 NL\"],\"y\":[7965,8472,15184,8816,11812,10377,10535,10154,13527,8162,10355,11513,8365,8990],\"type\":\"bar\"},{\"name\":\"brave.com\",\"visible\":false,\"x\":[\"ES \\u2192 DE \\u2192 DE\",\"ES \\u2192 DE \\u2192 FR\",\"ES \\u2192 PL \\u2192 EE\",\"ES \\u2192 PL \\u2192 NL\",\"ES \\u2192 PL \\u2192 PL\",\"NL \\u2192 DE \\u2192 DE\",\"NL \\u2192 DE \\u2192 FI\",\"NL \\u2192 DE \\u2192 FR\",\"NL \\u2192 DE \\u2192 SE\",\"NL \\u2192 DE \\u2192 US\",\"NL \\u2192 PL \\u2192 DE\",\"NL \\u2192 PL \\u2192 MD\",\"NL \\u2192 SE \\u2192 DE\",\"NL \\u2192 SE \\u2192 FR\",\"NL \\u2192 SE \\u2192 NL\"],\"y\":[12451,9240,12867,8579,9509,11528,9899,11936,10022,7993,8743,10279,9201,9774,8213],\"type\":\"bar\"},{\"name\":\"cock.li\",\"visible\":false,\"x\":[\"ES \\u2192 DE \\u2192 DE\",\"ES \\u2192 DE \\u2192 GB\",\"ES \\u2192 PL \\u2192 CH\",\"ES \\u2192 PL \\u2192 DE\",\"ES \\u2192 PL \\u2192 US\",\"ES \\u2192 SE \\u2192 DE\",\"ES \\u2192 SE \\u2192 FI\",\"ES \\u2192 SE \\u2192 GB\",\"ES \\u2192 SE \\u2192 IT\",\"NL \\u2192 DE \\u2192 CZ\",\"NL \\u2192 DE \\u2192 DE\",\"NL \\u2192 DE \\u2192 LV\",\"NL \\u2192 DE \\u2192 NL\",\"NL \\u2192 PL \\u2192 DK\",\"NL \\u2192 SE \\u2192 SE\"],\"y\":[2308,2209,2473,1968,3060,3404,2477,2146,2756,1615,1543,1945,4231,1517,2306],\"type\":\"bar\"},{\"name\":\"f-droid.org\",\"visible\":false,\"x\":[\"ES \\u2192 DE \\u2192 CZ\",\"ES \\u2192 DE \\u2192 FR\",\"ES \\u2192 DE \\u2192 GB\",\"ES \\u2192 DE \\u2192 UA\",\"ES \\u2192 PL \\u2192 DE\",\"ES \\u2192 SE \\u2192 DE\",\"ES \\u2192 SE \\u2192 NL\",\"NL \\u2192 DE \\u2192 DE\",\"NL \\u2192 DE \\u2192 FI\",\"NL \\u2192 DE \\u2192 NL\",\"NL \\u2192 DE \\u2192 PL\",\"NL \\u2192 PL \\u2192 BG\",\"NL \\u2192 PL \\u2192 DE\",\"NL \\u2192 PL \\u2192 GB\",\"NL \\u2192 PL \\u2192 NL\",\"NL \\u2192 SE \\u2192 DE\",\"NL \\u2192 SE \\u2192 FR\",\"NL \\u2192 SE \\u2192 US\"],\"y\":[8648,5477,3049,6495,5478,3578,9852,6550,5499,7623,2808,3159,2978,5737,2389,6826,4335,7652],\"type\":\"bar\"},{\"name\":\"guardian.co.uk\",\"visible\":false,\"x\":[\"ES \\u2192 DE \\u2192 MD\",\"ES \\u2192 DE \\u2192 NL\",\"ES \\u2192 DE \\u2192 RO\",\"ES \\u2192 PL \\u2192 DE\",\"ES \\u2192 PL \\u2192 US\",\"NL \\u2192 DE \\u2192 DE\",\"NL \\u2192 DE \\u2192 FI\",\"NL \\u2192 DE \\u2192 NL\",\"NL \\u2192 DE \\u2192 SE\",\"NL \\u2192 PL \\u2192 DE\",\"NL \\u2192 PL \\u2192 US\",\"NL \\u2192 SE \\u2192 DE\",\"NL \\u2192 SE \\u2192 FI\",\"NL \\u2192 SE \\u2192 GB\",\"NL \\u2192 SE \\u2192 NL\",\"NL \\u2192 SE \\u2192 SE\"],\"y\":[3708,3049,3198,3749,8059,2552,3269,2271,3176,3614,6440,3588,2927,2074,3503,3788],\"type\":\"bar\"},{\"name\":\"marxists.org\",\"visible\":false,\"x\":[\"ES \\u2192 DE \\u2192 DE\",\"ES \\u2192 DE \\u2192 NL\",\"ES \\u2192 PL \\u2192 DE\",\"ES \\u2192 SE \\u2192 DE\",\"ES \\u2192 SE \\u2192 NL\",\"NL \\u2192 DE \\u2192 DE\",\"NL \\u2192 DE \\u2192 FI\",\"NL \\u2192 DE \\u2192 NL\",\"NL \\u2192 DE \\u2192 SE\",\"NL \\u2192 PL \\u2192 DE\",\"NL \\u2192 PL \\u2192 FR\",\"NL \\u2192 PL \\u2192 US\"],\"y\":[4289,2723,4050,4413,4366,3299,3621,5341,22768,4246,1897,6004],\"type\":\"bar\"},{\"name\":\"mediapart.fr\",\"visible\":false,\"x\":[\"ES \\u2192 DE \\u2192 CZ\",\"ES \\u2192 DE \\u2192 NL\",\"ES \\u2192 DE \\u2192 SE\",\"ES \\u2192 PL \\u2192 ES\",\"NL \\u2192 DE \\u2192 BE\",\"NL \\u2192 DE \\u2192 DE\",\"NL \\u2192 DE \\u2192 ES\",\"NL \\u2192 DE \\u2192 FR\",\"NL \\u2192 DE \\u2192 NL\",\"NL \\u2192 DE \\u2192 PL\",\"NL \\u2192 DE \\u2192 SE\",\"NL \\u2192 DE \\u2192 US\",\"NL \\u2192 PL \\u2192 DE\",\"NL \\u2192 PL \\u2192 FR\",\"NL \\u2192 PL \\u2192 US\",\"NL \\u2192 SE \\u2192 NL\"],\"y\":[4438,6633,5981,4609,3204,3612,3866,2314,3192,3145,3282,6176,3301,3600,6364,2877],\"type\":\"bar\"},{\"name\":\"mempool.space\",\"visible\":false,\"x\":[\"ES \\u2192 DE \\u2192 DE\",\"ES \\u2192 DE \\u2192 FI\",\"ES \\u2192 DE \\u2192 FR\",\"ES \\u2192 DE \\u2192 NL\",\"ES \\u2192 DE \\u2192 UA\",\"ES \\u2192 PL \\u2192 GR\",\"ES \\u2192 SE \\u2192 FI\",\"NL \\u2192 DE \\u2192 AT\",\"NL \\u2192 DE \\u2192 DE\",\"NL \\u2192 DE \\u2192 NL\",\"NL \\u2192 PL \\u2192 EE\",\"NL \\u2192 PL \\u2192 NL\",\"NL \\u2192 SE \\u2192 DE\",\"NL \\u2192 SE \\u2192 LT\"],\"y\":[8360,8137,6879,5502,12780,9637,5214,4504,4471,5065,5511,6424,6436,7758],\"type\":\"bar\"},{\"name\":\"mullvad.net\",\"visible\":false,\"x\":[\"ES \\u2192 DE \\u2192 CH\",\"ES \\u2192 DE \\u2192 CZ\",\"ES \\u2192 DE \\u2192 DE\",\"ES \\u2192 DE \\u2192 FI\",\"ES \\u2192 DE \\u2192 FR\",\"ES \\u2192 DE \\u2192 PL\",\"ES \\u2192 SE \\u2192 DE\",\"ES \\u2192 SE \\u2192 FR\",\"NL \\u2192 DE \\u2192 DE\",\"NL \\u2192 DE \\u2192 FR\",\"NL \\u2192 DE \\u2192 GB\",\"NL \\u2192 PL \\u2192 DE\",\"NL \\u2192 PL \\u2192 NL\",\"NL \\u2192 SE \\u2192 CZ\",\"NL \\u2192 SE \\u2192 SE\"],\"y\":[8687,6386,6594,5996,6484,5476,6339,5665,4630,4691,5442,5662,6274,5601,5151],\"type\":\"bar\"},{\"name\":\"propublica.org\",\"visible\":false,\"x\":[\"ES \\u2192 DE \\u2192 DE\",\"ES \\u2192 DE \\u2192 SE\",\"ES \\u2192 DE \\u2192 US\",\"ES \\u2192 PL \\u2192 DE\",\"ES \\u2192 PL \\u2192 NL\",\"ES \\u2192 SE \\u2192 DE\",\"ES \\u2192 SE \\u2192 NO\",\"NL \\u2192 DE \\u2192 CH\",\"NL \\u2192 DE \\u2192 CZ\",\"NL \\u2192 DE \\u2192 DE\",\"NL \\u2192 DE \\u2192 NL\",\"NL \\u2192 DE \\u2192 US\",\"NL \\u2192 PL \\u2192 FR\",\"NL \\u2192 PL \\u2192 NL\"],\"y\":[7163,8236,7892,10374,8303,10677,8363,6891,8380,7791,12627,11056,8392,7020],\"type\":\"bar\"},{\"name\":\"proton.me\",\"visible\":false,\"x\":[\"ES \\u2192 DE \\u2192 DE\",\"ES \\u2192 PL \\u2192 FR\",\"ES \\u2192 PL \\u2192 GB\",\"ES \\u2192 SE \\u2192 DE\",\"NL \\u2192 DE \\u2192 DE\",\"NL \\u2192 DE \\u2192 FR\",\"NL \\u2192 DE \\u2192 NL\",\"NL \\u2192 PL \\u2192 GB\",\"NL \\u2192 PL \\u2192 NL\",\"NL \\u2192 SE \\u2192 BG\",\"NL \\u2192 SE \\u2192 DE\",\"NL \\u2192 SE \\u2192 MD\",\"NL \\u2192 SE \\u2192 NL\",\"NL \\u2192 SE \\u2192 PL\"],\"y\":[4040,3944,4245,4440,3712,4408,5190,3446,3601,4047,4272,4668,3024,3552],\"type\":\"bar\"},{\"name\":\"rferl.org\",\"visible\":false,\"x\":[\"ES \\u2192 DE \\u2192 CH\",\"ES \\u2192 DE \\u2192 DE\",\"ES \\u2192 DE \\u2192 FI\",\"ES \\u2192 DE \\u2192 HU\",\"ES \\u2192 PL \\u2192 FI\",\"ES \\u2192 PL \\u2192 SE\",\"ES \\u2192 SE \\u2192 SE\",\"NL \\u2192 DE \\u2192 DE\",\"NL \\u2192 DE \\u2192 NL\",\"NL \\u2192 DE \\u2192 US\",\"NL \\u2192 PL \\u2192 DE\",\"NL \\u2192 PL \\u2192 GB\",\"NL \\u2192 PL \\u2192 NL\",\"NL \\u2192 SE \\u2192 DE\",\"NL \\u2192 SE \\u2192 FR\"],\"y\":[8508,9040,10150,9203,10562,7766,10851,7015,9503,6581,6542,7404,7556,8076,9656],\"type\":\"bar\"},{\"name\":\"riseup.net\",\"visible\":false,\"x\":[\"ES \\u2192 DE \\u2192 CZ\",\"ES \\u2192 DE \\u2192 DE\",\"ES \\u2192 DE \\u2192 NL\",\"ES \\u2192 DE \\u2192 SE\",\"ES \\u2192 PL \\u2192 NL\",\"ES \\u2192 PL \\u2192 SE\",\"ES \\u2192 SE \\u2192 FR\",\"ES \\u2192 SE \\u2192 NL\",\"NL \\u2192 DE \\u2192 DE\",\"NL \\u2192 DE \\u2192 FI\",\"NL \\u2192 DE \\u2192 FR\",\"NL \\u2192 DE \\u2192 NL\",\"NL \\u2192 DE \\u2192 US\",\"NL \\u2192 PL \\u2192 BG\",\"NL \\u2192 PL \\u2192 SE\",\"NL \\u2192 PL \\u2192 US\",\"NL \\u2192 SE \\u2192 DE\",\"NL \\u2192 SE \\u2192 EE\",\"NL \\u2192 SE \\u2192 FI\"],\"y\":[5754,5013,5062,5596,5627,8894,5557,5717,5435,5970,4410,4782,4318,5303,5372,3998,5205,5416,6139],\"type\":\"bar\"},{\"name\":\"svoboda.org\",\"visible\":false,\"x\":[\"ES \\u2192 DE \\u2192 AT\",\"ES \\u2192 DE \\u2192 FI\",\"ES \\u2192 DE \\u2192 FR\",\"ES \\u2192 DE \\u2192 PL\",\"ES \\u2192 PL \\u2192 DE\",\"ES \\u2192 PL \\u2192 FR\",\"ES \\u2192 PL \\u2192 LU\",\"ES \\u2192 PL \\u2192 NL\",\"ES \\u2192 SE \\u2192 FR\",\"ES \\u2192 SE \\u2192 NO\",\"NL \\u2192 DE \\u2192 DE\",\"NL \\u2192 DE \\u2192 NO\",\"NL \\u2192 DE \\u2192 US\",\"NL \\u2192 PL \\u2192 DE\",\"NL \\u2192 PL \\u2192 FI\",\"NL \\u2192 SE \\u2192 DE\",\"NL \\u2192 SE \\u2192 NL\"],\"y\":[9032,11669,11758,50950,8517,7759,11723,8720,12291,9344,10124,10444,11155,7606,10774,9801,9452],\"type\":\"bar\"},{\"name\":\"taz.de\",\"visible\":false,\"x\":[\"ES \\u2192 DE \\u2192 DE\",\"ES \\u2192 DE \\u2192 EE\",\"ES \\u2192 DE \\u2192 FI\",\"ES \\u2192 DE \\u2192 LV\",\"ES \\u2192 DE \\u2192 PL\",\"ES \\u2192 SE \\u2192 DE\",\"NA\",\"NL \\u2192 DE \\u2192 DE\",\"NL \\u2192 DE \\u2192 FR\",\"NL \\u2192 DE \\u2192 NL\",\"NL \\u2192 DE \\u2192 US\",\"NL \\u2192 PL \\u2192 FR\",\"NL \\u2192 PL \\u2192 NL\",\"NL \\u2192 PL \\u2192 UA\",\"NL \\u2192 PL \\u2192 US\",\"NL \\u2192 SE \\u2192 CH\"],\"y\":[4396,5043,4877,4133,5864,6318,4234,5035,5447,3347,5871,5868,6303,6784,9270,7548],\"type\":\"bar\"},{\"name\":\"theguardian.com\",\"visible\":false,\"x\":[\"ES \\u2192 DE \\u2192 MD\",\"ES \\u2192 DE \\u2192 NL\",\"ES \\u2192 DE \\u2192 RO\",\"ES \\u2192 PL \\u2192 DE\",\"ES \\u2192 PL \\u2192 US\",\"NL \\u2192 DE \\u2192 DE\",\"NL \\u2192 DE \\u2192 FI\",\"NL \\u2192 DE \\u2192 NL\",\"NL \\u2192 DE \\u2192 SE\",\"NL \\u2192 PL \\u2192 DE\",\"NL \\u2192 PL \\u2192 US\",\"NL \\u2192 SE \\u2192 DE\",\"NL \\u2192 SE \\u2192 FI\",\"NL \\u2192 SE \\u2192 GB\",\"NL \\u2192 SE \\u2192 NL\",\"NL \\u2192 SE \\u2192 SE\"],\"y\":[6544,37745,23900,36435,8572,9180,24263,6285,44797,21512,41851,8220,11688,20278,24588,8282],\"type\":\"bar\"},{\"name\":\"torproject.org\",\"visible\":false,\"x\":[\"ES \\u2192 DE \\u2192 BE\",\"NA\",\"NL \\u2192 DE \\u2192 DE\"],\"y\":[4041,2706,5757],\"type\":\"bar\"},{\"name\":\"voanews.com\",\"visible\":false,\"x\":[\"ES \\u2192 DE \\u2192 DE\",\"ES \\u2192 DE \\u2192 FI\",\"ES \\u2192 DE \\u2192 FR\",\"ES \\u2192 DE \\u2192 NL\",\"ES \\u2192 PL \\u2192 DE\",\"ES \\u2192 PL \\u2192 FI\",\"ES \\u2192 SE \\u2192 FI\",\"NL \\u2192 DE \\u2192 DE\",\"NL \\u2192 DE \\u2192 FI\",\"NL \\u2192 DE \\u2192 FR\",\"NL \\u2192 DE \\u2192 RU\",\"NL \\u2192 DE \\u2192 SE\",\"NL \\u2192 PL \\u2192 GB\",\"NL \\u2192 PL \\u2192 NL\",\"NL \\u2192 PL \\u2192 PL\",\"NL \\u2192 SE \\u2192 DE\",\"NL \\u2192 SE \\u2192 SE\"],\"y\":[8959,11529,9507,9459,9256,10465,8610,6922,8480,6882,11388,8284,9197,8296,8339,7535,8133],\"type\":\"bar\"},{\"name\":\"wiz.biz\",\"visible\":false,\"x\":[\"ES \\u2192 DE \\u2192 DE\",\"ES \\u2192 PL \\u2192 CZ\",\"ES \\u2192 PL \\u2192 US\",\"ES \\u2192 SE \\u2192 DK\",\"ES \\u2192 SE \\u2192 FR\",\"ES \\u2192 SE \\u2192 GB\",\"NL \\u2192 DE \\u2192 DE\",\"NL \\u2192 DE \\u2192 NL\",\"NL \\u2192 DE \\u2192 US\",\"NL \\u2192 PL \\u2192 DE\",\"NL \\u2192 PL \\u2192 US\",\"NL \\u2192 SE \\u2192 DE\"],\"y\":[4741,3123,3997,3503,4737,3474,3969,2886,3947,2708,3262,2991],\"type\":\"bar\"}],                        {\"template\":{\"data\":{\"histogram2dcontour\":[{\"type\":\"histogram2dcontour\",\"colorbar\":{\"outlinewidth\":0,\"ticks\":\"\"},\"colorscale\":[[0.0,\"#0d0887\"],[0.1111111111111111,\"#46039f\"],[0.2222222222222222,\"#7201a8\"],[0.3333333333333333,\"#9c179e\"],[0.4444444444444444,\"#bd3786\"],[0.5555555555555556,\"#d8576b\"],[0.6666666666666666,\"#ed7953\"],[0.7777777777777778,\"#fb9f3a\"],[0.8888888888888888,\"#fdca26\"],[1.0,\"#f0f921\"]]}],\"choropleth\":[{\"type\":\"choropleth\",\"colorbar\":{\"outlinewidth\":0,\"ticks\":\"\"}}],\"histogram2d\":[{\"type\":\"histogram2d\",\"colorbar\":{\"outlinewidth\":0,\"ticks\":\"\"},\"colorscale\":[[0.0,\"#0d0887\"],[0.1111111111111111,\"#46039f\"],[0.2222222222222222,\"#7201a8\"],[0.3333333333333333,\"#9c179e\"],[0.4444444444444444,\"#bd3786\"],[0.5555555555555556,\"#d8576b\"],[0.6666666666666666,\"#ed7953\"],[0.7777777777777778,\"#fb9f3a\"],[0.8888888888888888,\"#fdca26\"],[1.0,\"#f0f921\"]]}],\"heatmap\":[{\"type\":\"heatmap\",\"colorbar\":{\"outlinewidth\":0,\"ticks\":\"\"},\"colorscale\":[[0.0,\"#0d0887\"],[0.1111111111111111,\"#46039f\"],[0.2222222222222222,\"#7201a8\"],[0.3333333333333333,\"#9c179e\"],[0.4444444444444444,\"#bd3786\"],[0.5555555555555556,\"#d8576b\"],[0.6666666666666666,\"#ed7953\"],[0.7777777777777778,\"#fb9f3a\"],[0.8888888888888888,\"#fdca26\"],[1.0,\"#f0f921\"]]}],\"heatmapgl\":[{\"type\":\"heatmapgl\",\"colorbar\":{\"outlinewidth\":0,\"ticks\":\"\"},\"colorscale\":[[0.0,\"#0d0887\"],[0.1111111111111111,\"#46039f\"],[0.2222222222222222,\"#7201a8\"],[0.3333333333333333,\"#9c179e\"],[0.4444444444444444,\"#bd3786\"],[0.5555555555555556,\"#d8576b\"],[0.6666666666666666,\"#ed7953\"],[0.7777777777777778,\"#fb9f3a\"],[0.8888888888888888,\"#fdca26\"],[1.0,\"#f0f921\"]]}],\"contourcarpet\":[{\"type\":\"contourcarpet\",\"colorbar\":{\"outlinewidth\":0,\"ticks\":\"\"}}],\"contour\":[{\"type\":\"contour\",\"colorbar\":{\"outlinewidth\":0,\"ticks\":\"\"},\"colorscale\":[[0.0,\"#0d0887\"],[0.1111111111111111,\"#46039f\"],[0.2222222222222222,\"#7201a8\"],[0.3333333333333333,\"#9c179e\"],[0.4444444444444444,\"#bd3786\"],[0.5555555555555556,\"#d8576b\"],[0.6666666666666666,\"#ed7953\"],[0.7777777777777778,\"#fb9f3a\"],[0.8888888888888888,\"#fdca26\"],[1.0,\"#f0f921\"]]}],\"surface\":[{\"type\":\"surface\",\"colorbar\":{\"outlinewidth\":0,\"ticks\":\"\"},\"colorscale\":[[0.0,\"#0d0887\"],[0.1111111111111111,\"#46039f\"],[0.2222222222222222,\"#7201a8\"],[0.3333333333333333,\"#9c179e\"],[0.4444444444444444,\"#bd3786\"],[0.5555555555555556,\"#d8576b\"],[0.6666666666666666,\"#ed7953\"],[0.7777777777777778,\"#fb9f3a\"],[0.8888888888888888,\"#fdca26\"],[1.0,\"#f0f921\"]]}],\"mesh3d\":[{\"type\":\"mesh3d\",\"colorbar\":{\"outlinewidth\":0,\"ticks\":\"\"}}],\"scatter\":[{\"fillpattern\":{\"fillmode\":\"overlay\",\"size\":10,\"solidity\":0.2},\"type\":\"scatter\"}],\"parcoords\":[{\"type\":\"parcoords\",\"line\":{\"colorbar\":{\"outlinewidth\":0,\"ticks\":\"\"}}}],\"scatterpolargl\":[{\"type\":\"scatterpolargl\",\"marker\":{\"colorbar\":{\"outlinewidth\":0,\"ticks\":\"\"}}}],\"bar\":[{\"error_x\":{\"color\":\"#2a3f5f\"},\"error_y\":{\"color\":\"#2a3f5f\"},\"marker\":{\"line\":{\"color\":\"#E5ECF6\",\"width\":0.5},\"pattern\":{\"fillmode\":\"overlay\",\"size\":10,\"solidity\":0.2}},\"type\":\"bar\"}],\"scattergeo\":[{\"type\":\"scattergeo\",\"marker\":{\"colorbar\":{\"outlinewidth\":0,\"ticks\":\"\"}}}],\"scatterpolar\":[{\"type\":\"scatterpolar\",\"marker\":{\"colorbar\":{\"outlinewidth\":0,\"ticks\":\"\"}}}],\"histogram\":[{\"marker\":{\"pattern\":{\"fillmode\":\"overlay\",\"size\":10,\"solidity\":0.2}},\"type\":\"histogram\"}],\"scattergl\":[{\"type\":\"scattergl\",\"marker\":{\"colorbar\":{\"outlinewidth\":0,\"ticks\":\"\"}}}],\"scatter3d\":[{\"type\":\"scatter3d\",\"line\":{\"colorbar\":{\"outlinewidth\":0,\"ticks\":\"\"}},\"marker\":{\"colorbar\":{\"outlinewidth\":0,\"ticks\":\"\"}}}],\"scattermapbox\":[{\"type\":\"scattermapbox\",\"marker\":{\"colorbar\":{\"outlinewidth\":0,\"ticks\":\"\"}}}],\"scatterternary\":[{\"type\":\"scatterternary\",\"marker\":{\"colorbar\":{\"outlinewidth\":0,\"ticks\":\"\"}}}],\"scattercarpet\":[{\"type\":\"scattercarpet\",\"marker\":{\"colorbar\":{\"outlinewidth\":0,\"ticks\":\"\"}}}],\"carpet\":[{\"aaxis\":{\"endlinecolor\":\"#2a3f5f\",\"gridcolor\":\"white\",\"linecolor\":\"white\",\"minorgridcolor\":\"white\",\"startlinecolor\":\"#2a3f5f\"},\"baxis\":{\"endlinecolor\":\"#2a3f5f\",\"gridcolor\":\"white\",\"linecolor\":\"white\",\"minorgridcolor\":\"white\",\"startlinecolor\":\"#2a3f5f\"},\"type\":\"carpet\"}],\"table\":[{\"cells\":{\"fill\":{\"color\":\"#EBF0F8\"},\"line\":{\"color\":\"white\"}},\"header\":{\"fill\":{\"color\":\"#C8D4E3\"},\"line\":{\"color\":\"white\"}},\"type\":\"table\"}],\"barpolar\":[{\"marker\":{\"line\":{\"color\":\"#E5ECF6\",\"width\":0.5},\"pattern\":{\"fillmode\":\"overlay\",\"size\":10,\"solidity\":0.2}},\"type\":\"barpolar\"}],\"pie\":[{\"automargin\":true,\"type\":\"pie\"}]},\"layout\":{\"autotypenumbers\":\"strict\",\"colorway\":[\"#636efa\",\"#EF553B\",\"#00cc96\",\"#ab63fa\",\"#FFA15A\",\"#19d3f3\",\"#FF6692\",\"#B6E880\",\"#FF97FF\",\"#FECB52\"],\"font\":{\"color\":\"#2a3f5f\"},\"hovermode\":\"closest\",\"hoverlabel\":{\"align\":\"left\"},\"paper_bgcolor\":\"white\",\"plot_bgcolor\":\"#E5ECF6\",\"polar\":{\"bgcolor\":\"#E5ECF6\",\"angularaxis\":{\"gridcolor\":\"white\",\"linecolor\":\"white\",\"ticks\":\"\"},\"radialaxis\":{\"gridcolor\":\"white\",\"linecolor\":\"white\",\"ticks\":\"\"}},\"ternary\":{\"bgcolor\":\"#E5ECF6\",\"aaxis\":{\"gridcolor\":\"white\",\"linecolor\":\"white\",\"ticks\":\"\"},\"baxis\":{\"gridcolor\":\"white\",\"linecolor\":\"white\",\"ticks\":\"\"},\"caxis\":{\"gridcolor\":\"white\",\"linecolor\":\"white\",\"ticks\":\"\"}},\"coloraxis\":{\"colorbar\":{\"outlinewidth\":0,\"ticks\":\"\"}},\"colorscale\":{\"sequential\":[[0.0,\"#0d0887\"],[0.1111111111111111,\"#46039f\"],[0.2222222222222222,\"#7201a8\"],[0.3333333333333333,\"#9c179e\"],[0.4444444444444444,\"#bd3786\"],[0.5555555555555556,\"#d8576b\"],[0.6666666666666666,\"#ed7953\"],[0.7777777777777778,\"#fb9f3a\"],[0.8888888888888888,\"#fdca26\"],[1.0,\"#f0f921\"]],\"sequentialminus\":[[0.0,\"#0d0887\"],[0.1111111111111111,\"#46039f\"],[0.2222222222222222,\"#7201a8\"],[0.3333333333333333,\"#9c179e\"],[0.4444444444444444,\"#bd3786\"],[0.5555555555555556,\"#d8576b\"],[0.6666666666666666,\"#ed7953\"],[0.7777777777777778,\"#fb9f3a\"],[0.8888888888888888,\"#fdca26\"],[1.0,\"#f0f921\"]],\"diverging\":[[0,\"#8e0152\"],[0.1,\"#c51b7d\"],[0.2,\"#de77ae\"],[0.3,\"#f1b6da\"],[0.4,\"#fde0ef\"],[0.5,\"#f7f7f7\"],[0.6,\"#e6f5d0\"],[0.7,\"#b8e186\"],[0.8,\"#7fbc41\"],[0.9,\"#4d9221\"],[1,\"#276419\"]]},\"xaxis\":{\"gridcolor\":\"white\",\"linecolor\":\"white\",\"ticks\":\"\",\"title\":{\"standoff\":15},\"zerolinecolor\":\"white\",\"automargin\":true,\"zerolinewidth\":2},\"yaxis\":{\"gridcolor\":\"white\",\"linecolor\":\"white\",\"ticks\":\"\",\"title\":{\"standoff\":15},\"zerolinecolor\":\"white\",\"automargin\":true,\"zerolinewidth\":2},\"scene\":{\"xaxis\":{\"backgroundcolor\":\"#E5ECF6\",\"gridcolor\":\"white\",\"linecolor\":\"white\",\"showbackground\":true,\"ticks\":\"\",\"zerolinecolor\":\"white\",\"gridwidth\":2},\"yaxis\":{\"backgroundcolor\":\"#E5ECF6\",\"gridcolor\":\"white\",\"linecolor\":\"white\",\"showbackground\":true,\"ticks\":\"\",\"zerolinecolor\":\"white\",\"gridwidth\":2},\"zaxis\":{\"backgroundcolor\":\"#E5ECF6\",\"gridcolor\":\"white\",\"linecolor\":\"white\",\"showbackground\":true,\"ticks\":\"\",\"zerolinecolor\":\"white\",\"gridwidth\":2}},\"shapedefaults\":{\"line\":{\"color\":\"#2a3f5f\"}},\"annotationdefaults\":{\"arrowcolor\":\"#2a3f5f\",\"arrowhead\":0,\"arrowwidth\":1},\"geo\":{\"bgcolor\":\"white\",\"landcolor\":\"#E5ECF6\",\"subunitcolor\":\"white\",\"showland\":true,\"showlakes\":true,\"lakecolor\":\"white\"},\"title\":{\"x\":0.05},\"mapbox\":{\"style\":\"light\"}}},\"xaxis\":{\"tickfont\":{\"size\":10},\"tickangle\":45},\"margin\":{\"t\":120},\"updatemenus\":[{\"active\":0,\"buttons\":[{\"args\":[{\"visible\":[true,false,false,false,false,false,false,false,false,false,false,false,false,false,false,false,false,false,false,false,false,false,false]},{\"title\":\"Page Load Time for amnesty.org per Relay Country Path\",\"xaxis\":{\"title\":\"Relay Country Path\"},\"yaxis\":{\"title\":\"Page Load Time (ms)\"}}],\"label\":\"amnesty.org\",\"method\":\"update\"},{\"args\":[{\"visible\":[false,true,false,false,false,false,false,false,false,false,false,false,false,false,false,false,false,false,false,false,false,false,false]},{\"title\":\"Page Load Time for archive.is per Relay Country Path\",\"xaxis\":{\"title\":\"Relay Country Path\"},\"yaxis\":{\"title\":\"Page Load Time (ms)\"}}],\"label\":\"archive.is\",\"method\":\"update\"},{\"args\":[{\"visible\":[false,false,true,false,false,false,false,false,false,false,false,false,false,false,false,false,false,false,false,false,false,false,false]},{\"title\":\"Page Load Time for archive.org per Relay Country Path\",\"xaxis\":{\"title\":\"Relay Country Path\"},\"yaxis\":{\"title\":\"Page Load Time (ms)\"}}],\"label\":\"archive.org\",\"method\":\"update\"},{\"args\":[{\"visible\":[false,false,false,true,false,false,false,false,false,false,false,false,false,false,false,false,false,false,false,false,false,false,false]},{\"title\":\"Page Load Time for archive.ph per Relay Country Path\",\"xaxis\":{\"title\":\"Relay Country Path\"},\"yaxis\":{\"title\":\"Page Load Time (ms)\"}}],\"label\":\"archive.ph\",\"method\":\"update\"},{\"args\":[{\"visible\":[false,false,false,false,true,false,false,false,false,false,false,false,false,false,false,false,false,false,false,false,false,false,false]},{\"title\":\"Page Load Time for blockstream.info per Relay Country Path\",\"xaxis\":{\"title\":\"Relay Country Path\"},\"yaxis\":{\"title\":\"Page Load Time (ms)\"}}],\"label\":\"blockstream.info\",\"method\":\"update\"},{\"args\":[{\"visible\":[false,false,false,false,false,true,false,false,false,false,false,false,false,false,false,false,false,false,false,false,false,false,false]},{\"title\":\"Page Load Time for brave.com per Relay Country Path\",\"xaxis\":{\"title\":\"Relay Country Path\"},\"yaxis\":{\"title\":\"Page Load Time (ms)\"}}],\"label\":\"brave.com\",\"method\":\"update\"},{\"args\":[{\"visible\":[false,false,false,false,false,false,true,false,false,false,false,false,false,false,false,false,false,false,false,false,false,false,false]},{\"title\":\"Page Load Time for cock.li per Relay Country Path\",\"xaxis\":{\"title\":\"Relay Country Path\"},\"yaxis\":{\"title\":\"Page Load Time (ms)\"}}],\"label\":\"cock.li\",\"method\":\"update\"},{\"args\":[{\"visible\":[false,false,false,false,false,false,false,true,false,false,false,false,false,false,false,false,false,false,false,false,false,false,false]},{\"title\":\"Page Load Time for f-droid.org per Relay Country Path\",\"xaxis\":{\"title\":\"Relay Country Path\"},\"yaxis\":{\"title\":\"Page Load Time (ms)\"}}],\"label\":\"f-droid.org\",\"method\":\"update\"},{\"args\":[{\"visible\":[false,false,false,false,false,false,false,false,true,false,false,false,false,false,false,false,false,false,false,false,false,false,false]},{\"title\":\"Page Load Time for guardian.co.uk per Relay Country Path\",\"xaxis\":{\"title\":\"Relay Country Path\"},\"yaxis\":{\"title\":\"Page Load Time (ms)\"}}],\"label\":\"guardian.co.uk\",\"method\":\"update\"},{\"args\":[{\"visible\":[false,false,false,false,false,false,false,false,false,true,false,false,false,false,false,false,false,false,false,false,false,false,false]},{\"title\":\"Page Load Time for marxists.org per Relay Country Path\",\"xaxis\":{\"title\":\"Relay Country Path\"},\"yaxis\":{\"title\":\"Page Load Time (ms)\"}}],\"label\":\"marxists.org\",\"method\":\"update\"},{\"args\":[{\"visible\":[false,false,false,false,false,false,false,false,false,false,true,false,false,false,false,false,false,false,false,false,false,false,false]},{\"title\":\"Page Load Time for mediapart.fr per Relay Country Path\",\"xaxis\":{\"title\":\"Relay Country Path\"},\"yaxis\":{\"title\":\"Page Load Time (ms)\"}}],\"label\":\"mediapart.fr\",\"method\":\"update\"},{\"args\":[{\"visible\":[false,false,false,false,false,false,false,false,false,false,false,true,false,false,false,false,false,false,false,false,false,false,false]},{\"title\":\"Page Load Time for mempool.space per Relay Country Path\",\"xaxis\":{\"title\":\"Relay Country Path\"},\"yaxis\":{\"title\":\"Page Load Time (ms)\"}}],\"label\":\"mempool.space\",\"method\":\"update\"},{\"args\":[{\"visible\":[false,false,false,false,false,false,false,false,false,false,false,false,true,false,false,false,false,false,false,false,false,false,false]},{\"title\":\"Page Load Time for mullvad.net per Relay Country Path\",\"xaxis\":{\"title\":\"Relay Country Path\"},\"yaxis\":{\"title\":\"Page Load Time (ms)\"}}],\"label\":\"mullvad.net\",\"method\":\"update\"},{\"args\":[{\"visible\":[false,false,false,false,false,false,false,false,false,false,false,false,false,true,false,false,false,false,false,false,false,false,false]},{\"title\":\"Page Load Time for propublica.org per Relay Country Path\",\"xaxis\":{\"title\":\"Relay Country Path\"},\"yaxis\":{\"title\":\"Page Load Time (ms)\"}}],\"label\":\"propublica.org\",\"method\":\"update\"},{\"args\":[{\"visible\":[false,false,false,false,false,false,false,false,false,false,false,false,false,false,true,false,false,false,false,false,false,false,false]},{\"title\":\"Page Load Time for proton.me per Relay Country Path\",\"xaxis\":{\"title\":\"Relay Country Path\"},\"yaxis\":{\"title\":\"Page Load Time (ms)\"}}],\"label\":\"proton.me\",\"method\":\"update\"},{\"args\":[{\"visible\":[false,false,false,false,false,false,false,false,false,false,false,false,false,false,false,true,false,false,false,false,false,false,false]},{\"title\":\"Page Load Time for rferl.org per Relay Country Path\",\"xaxis\":{\"title\":\"Relay Country Path\"},\"yaxis\":{\"title\":\"Page Load Time (ms)\"}}],\"label\":\"rferl.org\",\"method\":\"update\"},{\"args\":[{\"visible\":[false,false,false,false,false,false,false,false,false,false,false,false,false,false,false,false,true,false,false,false,false,false,false]},{\"title\":\"Page Load Time for riseup.net per Relay Country Path\",\"xaxis\":{\"title\":\"Relay Country Path\"},\"yaxis\":{\"title\":\"Page Load Time (ms)\"}}],\"label\":\"riseup.net\",\"method\":\"update\"},{\"args\":[{\"visible\":[false,false,false,false,false,false,false,false,false,false,false,false,false,false,false,false,false,true,false,false,false,false,false]},{\"title\":\"Page Load Time for svoboda.org per Relay Country Path\",\"xaxis\":{\"title\":\"Relay Country Path\"},\"yaxis\":{\"title\":\"Page Load Time (ms)\"}}],\"label\":\"svoboda.org\",\"method\":\"update\"},{\"args\":[{\"visible\":[false,false,false,false,false,false,false,false,false,false,false,false,false,false,false,false,false,false,true,false,false,false,false]},{\"title\":\"Page Load Time for taz.de per Relay Country Path\",\"xaxis\":{\"title\":\"Relay Country Path\"},\"yaxis\":{\"title\":\"Page Load Time (ms)\"}}],\"label\":\"taz.de\",\"method\":\"update\"},{\"args\":[{\"visible\":[false,false,false,false,false,false,false,false,false,false,false,false,false,false,false,false,false,false,false,true,false,false,false]},{\"title\":\"Page Load Time for theguardian.com per Relay Country Path\",\"xaxis\":{\"title\":\"Relay Country Path\"},\"yaxis\":{\"title\":\"Page Load Time (ms)\"}}],\"label\":\"theguardian.com\",\"method\":\"update\"},{\"args\":[{\"visible\":[false,false,false,false,false,false,false,false,false,false,false,false,false,false,false,false,false,false,false,false,true,false,false]},{\"title\":\"Page Load Time for torproject.org per Relay Country Path\",\"xaxis\":{\"title\":\"Relay Country Path\"},\"yaxis\":{\"title\":\"Page Load Time (ms)\"}}],\"label\":\"torproject.org\",\"method\":\"update\"},{\"args\":[{\"visible\":[false,false,false,false,false,false,false,false,false,false,false,false,false,false,false,false,false,false,false,false,false,true,false]},{\"title\":\"Page Load Time for voanews.com per Relay Country Path\",\"xaxis\":{\"title\":\"Relay Country Path\"},\"yaxis\":{\"title\":\"Page Load Time (ms)\"}}],\"label\":\"voanews.com\",\"method\":\"update\"},{\"args\":[{\"visible\":[false,false,false,false,false,false,false,false,false,false,false,false,false,false,false,false,false,false,false,false,false,false,true]},{\"title\":\"Page Load Time for wiz.biz per Relay Country Path\",\"xaxis\":{\"title\":\"Relay Country Path\"},\"yaxis\":{\"title\":\"Page Load Time (ms)\"}}],\"label\":\"wiz.biz\",\"method\":\"update\"}],\"x\":0.0,\"xanchor\":\"left\",\"y\":1.05,\"yanchor\":\"top\"}],\"title\":{\"text\":\"Page Load Time for amnesty.org per Relay Country Path\"},\"yaxis\":{\"title\":{\"text\":\"Page Load Time (ms)\"}},\"height\":600,\"width\":900},                        {\"responsive\": true}                    ).then(function(){\n",
       "                            \n",
       "var gd = document.getElementById('f741559b-9c3d-4856-9031-b022f522f9ba');\n",
       "var x = new MutationObserver(function (mutations, observer) {{\n",
       "        var display = window.getComputedStyle(gd).display;\n",
       "        if (!display || display === 'none') {{\n",
       "            console.log([gd, 'removed!']);\n",
       "            Plotly.purge(gd);\n",
       "            observer.disconnect();\n",
       "        }}\n",
       "}});\n",
       "\n",
       "// Listen for the removal of the full notebook cells\n",
       "var notebookContainer = gd.closest('#notebook-container');\n",
       "if (notebookContainer) {{\n",
       "    x.observe(notebookContainer, {childList: true});\n",
       "}}\n",
       "\n",
       "// Listen for the clearing of the current output cell\n",
       "var outputEl = gd.closest('.output');\n",
       "if (outputEl) {{\n",
       "    x.observe(outputEl, {childList: true});\n",
       "}}\n",
       "\n",
       "                        })                };                });            </script>        </div>"
      ]
     },
     "metadata": {},
     "output_type": "display_data"
    }
   ],
   "source": [
    "import plotly.graph_objects as go\n",
    "import re\n",
    "\n",
    "# Same as above\n",
    "def extract_country_tuple(relay_str):\n",
    "    if pd.isna(relay_str):\n",
    "        return (\"NA\",)\n",
    "    countries = re.findall(r\":([A-Z]{2})(?:\\s|$|;)\", relay_str)\n",
    "    return tuple(countries)\n",
    "\n",
    "# Filter for onion entries only\n",
    "onion_df = df[df['Type'] == 'onion'].copy()\n",
    "\n",
    "# Extract relay country tuples\n",
    "onion_df['Relay Countries'] = onion_df['Circuit Relays (Onion only)'].apply(extract_country_tuple)\n",
    "\n",
    "# Convert tuples to string labels for plotting\n",
    "onion_df['Relay Country Path'] = onion_df['Relay Countries'].apply(lambda x: ' → '.join(x))\n",
    "\n",
    "# Group by domain and Relay Country Path and take the first Page Load value to avoid measurements stacking on top of eachother\n",
    "onion_grouped = onion_df.groupby(['Clear Domain', 'Relay Country Path'], as_index=False).first()\n",
    "\n",
    "# Get unique domains\n",
    "domains = onion_grouped['Clear Domain'].unique()\n",
    "\n",
    "fig = go.Figure()\n",
    "\n",
    "# Add traces for each domain, showing only the first appearance of each circuit path\n",
    "for i, domain in enumerate(domains):\n",
    "    domain_data = onion_grouped[onion_grouped['Clear Domain'] == domain]\n",
    "    \n",
    "    fig.add_trace(go.Bar(\n",
    "        x=domain_data['Relay Country Path'],\n",
    "        y=domain_data['Page Load (ms)'],\n",
    "        name=domain,\n",
    "        visible=(i == 0)\n",
    "    ))\n",
    "\n",
    "# Create dropdown buttons to toggle visibility\n",
    "buttons = []\n",
    "for i, domain in enumerate(domains):\n",
    "    visible = [False] * len(domains)\n",
    "    visible[i] = True\n",
    "    buttons.append(dict(\n",
    "        label=domain,\n",
    "        method=\"update\",\n",
    "        args=[{\"visible\": visible},\n",
    "              {\"title\": f\"Page Load Time for {domain} per Relay Country Path\",\n",
    "               \"xaxis\": {\"title\": \"Relay Country Path\"},\n",
    "               \"yaxis\": {\"title\": \"Page Load Time (ms)\"}}]\n",
    "    ))\n",
    "\n",
    "fig.update_layout(\n",
    "    updatemenus=[dict(\n",
    "        active=0,\n",
    "        buttons=buttons,\n",
    "        x=0.0,\n",
    "        y=1.05,\n",
    "        xanchor='left',\n",
    "        yanchor='top'\n",
    "    )],\n",
    "    title=f\"Page Load Time for {domains[0]} per Relay Country Path\",\n",
    "    xaxis_tickangle=45,\n",
    "    xaxis_tickfont=dict(size=10),\n",
    "    yaxis_title=\"Page Load Time (ms)\",\n",
    "    height=600,\n",
    "    width=900,\n",
    "    margin=dict(t=120)\n",
    ")\n",
    "\n",
    "fig.show()\n"
   ]
  },
  {
   "cell_type": "markdown",
   "id": "291832e5-bd4f-4774-a5ab-84478aaea72f",
   "metadata": {},
   "source": [
    "Looking at the plots above, we gain a clearer understanding of how the relay circuits impact page load times. As expected, the further the hops are from the source of the request (in this case, Germany), the longer the service takes to load. This correlation highlights the latency introduced by geographical distance within the tor network. However, the potential bandwidth limitations of the relays along the path, which may also contribute to slower load times, were not factored into these measurements and could be an interesting subject for future research."
   ]
  },
  {
   "cell_type": "markdown",
   "id": "d38d6bf7-c3eb-48f0-ae64-27518e9fff03",
   "metadata": {},
   "source": [
    "### Summary\n",
    "\n",
    "Onion services generally perform significantly worse than their clear web counterparts, which is to be expected given the nature of the Tor network. The actual performance experienced by users depends on the circuit configuration assigned by Tor, meaning that latency and load times can vary widely and sometimes be even worse than anticipated. From a usability standpoint, onion services face substantial challenges.\n",
    "\n",
    "The tradeoff between performance and the enhanced anonymity and privacy offered by onion services is ultimately a personal choice. However, it’s fair to say that, even if most popular domains were widely available as onion services (which is currently far from reality), the loss off usability is most likely not acceptable for the average user. Beyond performance, onion services face some other issues: mostly regarding the vast amount of illegal and unsafe domains offered. While users are not forced to visit these, their existence may be off-putting for some. Exploring the ethical and legal implications of these services lies beyond the scope of this assignment but remains an interesting topic for future discussion."
   ]
  },
  {
   "cell_type": "markdown",
   "id": "dcc5e533-aaae-4613-a879-05d6c6558df3",
   "metadata": {},
   "source": [
    "### Limitations and further research direction\n",
    "\n",
    "This project was subject to several important limitations. To further reduce noise and improve the reliability of the measurements, the analysis would have benefited from additional time and more measurement iterations. The scope of tested domains was also limited, primarily due to time constraints and the effort required to find and access more onion/clear web-domain-pairs.\n",
    "\n",
    "Furthermore, all measurements were conducted from a single location-my personal desktop computer-introducing a geographical bias. Since network performance and Tor circuit paths can vary significantly depending on the user's location, a more comprehensive understanding of onion service performance would require running tests from multiple vantage points across the globe. This could be achieved by collaborating with other researchers or make use of virtual private servers.\n",
    "\n",
    "One additional direction for comparison, which was not included in this assignment, would be to access the clear web versions of the domains using Tor to anonymize the requests/the traffic. This approach may offer a useful middle ground in the privacy–performance tradeoff. However, because in this project I aimed to explore the extremes of the spectrum, that scenario was not evaluated.\n",
    "\n",
    "Despite these limitations and the scope of the project leaning more towards the performance of the Tor network and its hidden services rather than about its privacy and anonymity goals, I hope the findings provide some interesting insight into the performance tradeoffs involved when using onion services. "
   ]
  },
  {
   "cell_type": "code",
   "execution_count": null,
   "id": "2226e9a7-9675-45b3-a025-7b643c04879e",
   "metadata": {},
   "outputs": [],
   "source": []
  },
  {
   "cell_type": "code",
   "execution_count": 40,
   "id": "bbc91c92-b155-45d0-bac4-9ad4f7c6856e",
   "metadata": {},
   "outputs": [
    {
     "name": "stdout",
     "output_type": "stream",
     "text": [
      "\n",
      "Relay Country Usage Summary (excluding 'Unknown'):\n",
      "DE: 374\n",
      "NL: 341\n",
      "ES: 178\n",
      "SE: 126\n",
      "PL: 119\n",
      "FR: 37\n",
      "US: 33\n",
      "FI: 31\n",
      "GB: 17\n",
      "CZ: 13\n",
      "CH: 5\n",
      "UA: 4\n",
      "MD: 4\n",
      "LV: 4\n",
      "RO: 4\n",
      "EE: 4\n",
      "BG: 3\n",
      "NO: 3\n",
      "DK: 2\n",
      "BE: 2\n",
      "AT: 2\n",
      "IT: 2\n",
      "LT: 2\n",
      "RU: 1\n",
      "GR: 1\n",
      "HU: 1\n",
      "LU: 1\n",
      "\n",
      "Unique Relays per .onion Domain:\n",
      "archive.org: 26 unique relays\n",
      "theguardian.com: 26 unique relays\n",
      "brave.com: 26 unique relays\n",
      "guardian.co.uk: 26 unique relays\n",
      "voanews.com: 25 unique relays\n",
      "proton.me: 26 unique relays\n",
      "amnesty.org: 26 unique relays\n",
      "propublica.org: 26 unique relays\n",
      "archive.is: 26 unique relays\n",
      "rferl.org: 26 unique relays\n",
      "mullvad.net: 26 unique relays\n",
      "archive.ph: 26 unique relays\n",
      "mempool.space: 26 unique relays\n",
      "taz.de: 22 unique relays\n",
      "marxists.org: 25 unique relays\n",
      "wiz.biz: 26 unique relays\n",
      "f-droid.org: 26 unique relays\n",
      "cock.li: 26 unique relays\n",
      "mediapart.fr: 26 unique relays\n",
      "riseup.net: 26 unique relays\n",
      "blockstream.info: 26 unique relays\n",
      "svoboda.org: 26 unique relays\n",
      "torproject.org: 6 unique relays\n",
      "\n",
      "Total unique relays in dataset: 375\n",
      "Total unique 3-relay Tor circuits in dataset: 394\n"
     ]
    }
   ],
   "source": [
    "from collections import defaultdict\n",
    "\n",
    "# Filter only onion URLs\n",
    "onion_df = df[df['Type'] == 'onion'].copy()\n",
    "\n",
    "country_counts = defaultdict(int)\n",
    "relays_per_domain = defaultdict(set)\n",
    "all_unique_relays = set()\n",
    "all_unique_circuits = set()\n",
    "\n",
    "for _, row in onion_df.iterrows():\n",
    "    domain = row['Clear Domain']\n",
    "    relays = row['Circuit Relays (Onion only)']\n",
    "    if pd.isna(relays):\n",
    "        continue\n",
    "\n",
    "    relay_fingerprints = []\n",
    "    for relay in relays.split(';'):\n",
    "        parts = relay.strip().split(':')\n",
    "        if len(parts) == 4:\n",
    "            fingerprint, nickname, ip, country = parts\n",
    "            # Only count known countries\n",
    "            if country.lower() != 'unknown':\n",
    "                country_counts[country] += 1\n",
    "            relays_per_domain[domain].add(fingerprint)\n",
    "            all_unique_relays.add(fingerprint)\n",
    "            relay_fingerprints.append(fingerprint)\n",
    "\n",
    "    # Each circuit is a 3-relay configuration (list of 3 fingerprints)\n",
    "    if len(relay_fingerprints) == 3:\n",
    "        all_unique_circuits.add(tuple(relay_fingerprints))\n",
    "\n",
    "print(\"\\nRelay Country Usage Summary (excluding 'Unknown'):\")\n",
    "for country, count in sorted(country_counts.items(), key=lambda x: -x[1]):\n",
    "    print(f\"{country}: {count}\")\n",
    "\n",
    "print(\"\\nUnique Relays per .onion Domain:\")\n",
    "for domain, relay_set in relays_per_domain.items():\n",
    "    print(f\"{domain}: {len(relay_set)} unique relays\")\n",
    "\n",
    "print(f\"\\nTotal unique relays in dataset: {len(all_unique_relays)}\")\n",
    "print(f\"Total unique 3-relay Tor circuits in dataset: {len(all_unique_circuits)}\")\n"
   ]
  },
  {
   "cell_type": "markdown",
   "id": "f2a08d9c-c308-421b-b3da-5ef3dad45221",
   "metadata": {},
   "source": [
    "### References \n",
    "\n",
    "- [1]https://spec.torproject.org/intro/index.html\n",
    "- [2]https://community.torproject.org/relay/types-of-relays/\n",
    "- [3]https://blog.torproject.org/bad-exit-relays-may-june-2020\n",
    "- [4]https://community.torproject.org/onion-services/overview/\n",
    "- [5]https://community.torproject.org/onion-services/advanced/onion-location/\n",
    "- [6]https://tranco-list.eu/\n",
    "- [7]https://www.selenium.dev/\n",
    "- [8]https://stem.torproject.org/index.html\n",
    "- [9]Understanding Tor Usage with Privacy-Preserving Measurement, https://ohmygodel.com/publications/tor-usage-imc18.pdf"
   ]
  },
  {
   "cell_type": "code",
   "execution_count": null,
   "id": "13c8fe82-59b8-47bb-a314-205316d54dfc",
   "metadata": {},
   "outputs": [],
   "source": []
  }
 ],
 "metadata": {
  "kernelspec": {
   "display_name": "Python [conda env:base] *",
   "language": "python",
   "name": "conda-base-py"
  },
  "language_info": {
   "codemirror_mode": {
    "name": "ipython",
    "version": 3
   },
   "file_extension": ".py",
   "mimetype": "text/x-python",
   "name": "python",
   "nbconvert_exporter": "python",
   "pygments_lexer": "ipython3",
   "version": "3.12.7"
  }
 },
 "nbformat": 4,
 "nbformat_minor": 5
}
